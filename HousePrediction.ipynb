{
 "cells": [
  {
   "cell_type": "markdown",
   "metadata": {},
   "source": [
    "# MACHINE LEARNING PROJECT ON DELHI HOUSE PRICE PREDICTION"
   ]
  },
  {
   "cell_type": "code",
   "execution_count": 130,
   "metadata": {},
   "outputs": [
    {
     "data": {
      "text/html": [
       "<div>\n",
       "<style scoped>\n",
       "    .dataframe tbody tr th:only-of-type {\n",
       "        vertical-align: middle;\n",
       "    }\n",
       "\n",
       "    .dataframe tbody tr th {\n",
       "        vertical-align: top;\n",
       "    }\n",
       "\n",
       "    .dataframe thead th {\n",
       "        text-align: right;\n",
       "    }\n",
       "</style>\n",
       "<table border=\"1\" class=\"dataframe\">\n",
       "  <thead>\n",
       "    <tr style=\"text-align: right;\">\n",
       "      <th></th>\n",
       "      <th>Area</th>\n",
       "      <th>BHK</th>\n",
       "      <th>Bathroom</th>\n",
       "      <th>Furnishing</th>\n",
       "      <th>Locality</th>\n",
       "      <th>Parking</th>\n",
       "      <th>Price</th>\n",
       "      <th>Status</th>\n",
       "      <th>Transaction</th>\n",
       "      <th>Type</th>\n",
       "      <th>Per_Sqft</th>\n",
       "    </tr>\n",
       "  </thead>\n",
       "  <tbody>\n",
       "    <tr>\n",
       "      <th>0</th>\n",
       "      <td>800.0</td>\n",
       "      <td>3</td>\n",
       "      <td>2.0</td>\n",
       "      <td>Semi-Furnished</td>\n",
       "      <td>Rohini Sector 25</td>\n",
       "      <td>1.0</td>\n",
       "      <td>6500000</td>\n",
       "      <td>Ready_to_move</td>\n",
       "      <td>New_Property</td>\n",
       "      <td>Builder_Floor</td>\n",
       "      <td>NaN</td>\n",
       "    </tr>\n",
       "    <tr>\n",
       "      <th>1</th>\n",
       "      <td>750.0</td>\n",
       "      <td>2</td>\n",
       "      <td>2.0</td>\n",
       "      <td>Semi-Furnished</td>\n",
       "      <td>J R Designers Floors, Rohini Sector 24</td>\n",
       "      <td>1.0</td>\n",
       "      <td>5000000</td>\n",
       "      <td>Ready_to_move</td>\n",
       "      <td>New_Property</td>\n",
       "      <td>Apartment</td>\n",
       "      <td>6667.0</td>\n",
       "    </tr>\n",
       "    <tr>\n",
       "      <th>2</th>\n",
       "      <td>950.0</td>\n",
       "      <td>2</td>\n",
       "      <td>2.0</td>\n",
       "      <td>Furnished</td>\n",
       "      <td>Citizen Apartment, Rohini Sector 13</td>\n",
       "      <td>1.0</td>\n",
       "      <td>15500000</td>\n",
       "      <td>Ready_to_move</td>\n",
       "      <td>Resale</td>\n",
       "      <td>Apartment</td>\n",
       "      <td>6667.0</td>\n",
       "    </tr>\n",
       "    <tr>\n",
       "      <th>3</th>\n",
       "      <td>600.0</td>\n",
       "      <td>2</td>\n",
       "      <td>2.0</td>\n",
       "      <td>Semi-Furnished</td>\n",
       "      <td>Rohini Sector 24</td>\n",
       "      <td>1.0</td>\n",
       "      <td>4200000</td>\n",
       "      <td>Ready_to_move</td>\n",
       "      <td>Resale</td>\n",
       "      <td>Builder_Floor</td>\n",
       "      <td>6667.0</td>\n",
       "    </tr>\n",
       "    <tr>\n",
       "      <th>4</th>\n",
       "      <td>650.0</td>\n",
       "      <td>2</td>\n",
       "      <td>2.0</td>\n",
       "      <td>Semi-Furnished</td>\n",
       "      <td>Rohini Sector 24 carpet area 650 sqft status R...</td>\n",
       "      <td>1.0</td>\n",
       "      <td>6200000</td>\n",
       "      <td>Ready_to_move</td>\n",
       "      <td>New_Property</td>\n",
       "      <td>Builder_Floor</td>\n",
       "      <td>6667.0</td>\n",
       "    </tr>\n",
       "    <tr>\n",
       "      <th>...</th>\n",
       "      <td>...</td>\n",
       "      <td>...</td>\n",
       "      <td>...</td>\n",
       "      <td>...</td>\n",
       "      <td>...</td>\n",
       "      <td>...</td>\n",
       "      <td>...</td>\n",
       "      <td>...</td>\n",
       "      <td>...</td>\n",
       "      <td>...</td>\n",
       "      <td>...</td>\n",
       "    </tr>\n",
       "    <tr>\n",
       "      <th>1254</th>\n",
       "      <td>4118.0</td>\n",
       "      <td>4</td>\n",
       "      <td>5.0</td>\n",
       "      <td>Unfurnished</td>\n",
       "      <td>Chittaranjan Park</td>\n",
       "      <td>3.0</td>\n",
       "      <td>55000000</td>\n",
       "      <td>Ready_to_move</td>\n",
       "      <td>New_Property</td>\n",
       "      <td>Builder_Floor</td>\n",
       "      <td>12916.0</td>\n",
       "    </tr>\n",
       "    <tr>\n",
       "      <th>1255</th>\n",
       "      <td>1050.0</td>\n",
       "      <td>3</td>\n",
       "      <td>2.0</td>\n",
       "      <td>Semi-Furnished</td>\n",
       "      <td>Chittaranjan Park</td>\n",
       "      <td>3.0</td>\n",
       "      <td>12500000</td>\n",
       "      <td>Ready_to_move</td>\n",
       "      <td>Resale</td>\n",
       "      <td>Builder_Floor</td>\n",
       "      <td>12916.0</td>\n",
       "    </tr>\n",
       "    <tr>\n",
       "      <th>1256</th>\n",
       "      <td>875.0</td>\n",
       "      <td>3</td>\n",
       "      <td>3.0</td>\n",
       "      <td>Semi-Furnished</td>\n",
       "      <td>Chittaranjan Park</td>\n",
       "      <td>3.0</td>\n",
       "      <td>17500000</td>\n",
       "      <td>Ready_to_move</td>\n",
       "      <td>New_Property</td>\n",
       "      <td>Builder_Floor</td>\n",
       "      <td>12916.0</td>\n",
       "    </tr>\n",
       "    <tr>\n",
       "      <th>1257</th>\n",
       "      <td>990.0</td>\n",
       "      <td>2</td>\n",
       "      <td>2.0</td>\n",
       "      <td>Unfurnished</td>\n",
       "      <td>Chittaranjan Park Block A</td>\n",
       "      <td>1.0</td>\n",
       "      <td>11500000</td>\n",
       "      <td>Ready_to_move</td>\n",
       "      <td>Resale</td>\n",
       "      <td>Builder_Floor</td>\n",
       "      <td>12916.0</td>\n",
       "    </tr>\n",
       "    <tr>\n",
       "      <th>1258</th>\n",
       "      <td>11050.0</td>\n",
       "      <td>3</td>\n",
       "      <td>3.0</td>\n",
       "      <td>Unfurnished</td>\n",
       "      <td>Chittaranjan Park</td>\n",
       "      <td>1.0</td>\n",
       "      <td>18500000</td>\n",
       "      <td>Ready_to_move</td>\n",
       "      <td>New_Property</td>\n",
       "      <td>Builder_Floor</td>\n",
       "      <td>12916.0</td>\n",
       "    </tr>\n",
       "  </tbody>\n",
       "</table>\n",
       "<p>1259 rows × 11 columns</p>\n",
       "</div>"
      ],
      "text/plain": [
       "         Area  BHK  Bathroom      Furnishing  \\\n",
       "0       800.0    3       2.0  Semi-Furnished   \n",
       "1       750.0    2       2.0  Semi-Furnished   \n",
       "2       950.0    2       2.0       Furnished   \n",
       "3       600.0    2       2.0  Semi-Furnished   \n",
       "4       650.0    2       2.0  Semi-Furnished   \n",
       "...       ...  ...       ...             ...   \n",
       "1254   4118.0    4       5.0     Unfurnished   \n",
       "1255   1050.0    3       2.0  Semi-Furnished   \n",
       "1256    875.0    3       3.0  Semi-Furnished   \n",
       "1257    990.0    2       2.0     Unfurnished   \n",
       "1258  11050.0    3       3.0     Unfurnished   \n",
       "\n",
       "                                               Locality  Parking     Price  \\\n",
       "0                                      Rohini Sector 25      1.0   6500000   \n",
       "1                J R Designers Floors, Rohini Sector 24      1.0   5000000   \n",
       "2                   Citizen Apartment, Rohini Sector 13      1.0  15500000   \n",
       "3                                      Rohini Sector 24      1.0   4200000   \n",
       "4     Rohini Sector 24 carpet area 650 sqft status R...      1.0   6200000   \n",
       "...                                                 ...      ...       ...   \n",
       "1254                                  Chittaranjan Park      3.0  55000000   \n",
       "1255                                  Chittaranjan Park      3.0  12500000   \n",
       "1256                                  Chittaranjan Park      3.0  17500000   \n",
       "1257                          Chittaranjan Park Block A      1.0  11500000   \n",
       "1258                                  Chittaranjan Park      1.0  18500000   \n",
       "\n",
       "             Status   Transaction           Type  Per_Sqft  \n",
       "0     Ready_to_move  New_Property  Builder_Floor       NaN  \n",
       "1     Ready_to_move  New_Property      Apartment    6667.0  \n",
       "2     Ready_to_move        Resale      Apartment    6667.0  \n",
       "3     Ready_to_move        Resale  Builder_Floor    6667.0  \n",
       "4     Ready_to_move  New_Property  Builder_Floor    6667.0  \n",
       "...             ...           ...            ...       ...  \n",
       "1254  Ready_to_move  New_Property  Builder_Floor   12916.0  \n",
       "1255  Ready_to_move        Resale  Builder_Floor   12916.0  \n",
       "1256  Ready_to_move  New_Property  Builder_Floor   12916.0  \n",
       "1257  Ready_to_move        Resale  Builder_Floor   12916.0  \n",
       "1258  Ready_to_move  New_Property  Builder_Floor   12916.0  \n",
       "\n",
       "[1259 rows x 11 columns]"
      ]
     },
     "execution_count": 130,
     "metadata": {},
     "output_type": "execute_result"
    }
   ],
   "source": [
    "import numpy as np\n",
    "import pandas as pd\n",
    "import matplotlib.pyplot as plt\n",
    "%matplotlib inline\n",
    "import matplotlib\n",
    "from sklearn.linear_model import LinearRegression\n",
    "import seaborn as sns\n",
    "matplotlib.rcParams['figure.figsize']=(20,10)\n",
    "df=pd.read_csv('MagicBricks.csv')\n",
    "df"
   ]
  },
  {
   "cell_type": "code",
   "execution_count": 131,
   "metadata": {},
   "outputs": [
    {
     "data": {
      "text/plain": [
       "pandas.core.frame.DataFrame"
      ]
     },
     "execution_count": 131,
     "metadata": {},
     "output_type": "execute_result"
    }
   ],
   "source": [
    "type(df)"
   ]
  },
  {
   "cell_type": "code",
   "execution_count": 132,
   "metadata": {},
   "outputs": [
    {
     "data": {
      "text/plain": [
       "(1259, 11)"
      ]
     },
     "execution_count": 132,
     "metadata": {},
     "output_type": "execute_result"
    }
   ],
   "source": [
    "df.shape"
   ]
  },
  {
   "cell_type": "code",
   "execution_count": 133,
   "metadata": {},
   "outputs": [],
   "source": [
    "df2=df.copy()\n"
   ]
  },
  {
   "cell_type": "code",
   "execution_count": 135,
   "metadata": {},
   "outputs": [
    {
     "data": {
      "text/plain": [
       "<matplotlib.axes._subplots.AxesSubplot at 0x1c9a2abdb48>"
      ]
     },
     "execution_count": 135,
     "metadata": {},
     "output_type": "execute_result"
    },
    {
     "data": {
      "image/png": "[encoded data removed]",
      "text/plain": [
       "<Figure size 1440x720 with 1 Axes>"
      ]
     },
     "metadata": {
      "needs_background": "light"
     },
     "output_type": "display_data"
    }
   ],
   "source": [
    "sns.countplot(df.BHK)"
   ]
  },
  {
   "cell_type": "code",
   "execution_count": 136,
   "metadata": {},
   "outputs": [
    {
     "data": {
      "text/plain": [
       "3     541\n",
       "2     367\n",
       "4     220\n",
       "1      96\n",
       "5      27\n",
       "6       6\n",
       "10      1\n",
       "7       1\n",
       "Name: BHK, dtype: int64"
      ]
     },
     "execution_count": 136,
     "metadata": {},
     "output_type": "execute_result"
    }
   ],
   "source": [
    "df['BHK'].value_counts()"
   ]
  },
  {
   "cell_type": "markdown",
   "metadata": {},
   "source": [
    " Dropping data for BHK having low value count"
   ]
  },
  {
   "cell_type": "code",
   "execution_count": 137,
   "metadata": {},
   "outputs": [
    {
     "data": {
      "text/html": [
       "<div>\n",
       "<style scoped>\n",
       "    .dataframe tbody tr th:only-of-type {\n",
       "        vertical-align: middle;\n",
       "    }\n",
       "\n",
       "    .dataframe tbody tr th {\n",
       "        vertical-align: top;\n",
       "    }\n",
       "\n",
       "    .dataframe thead th {\n",
       "        text-align: right;\n",
       "    }\n",
       "</style>\n",
       "<table border=\"1\" class=\"dataframe\">\n",
       "  <thead>\n",
       "    <tr style=\"text-align: right;\">\n",
       "      <th></th>\n",
       "      <th>Area</th>\n",
       "      <th>BHK</th>\n",
       "      <th>Bathroom</th>\n",
       "      <th>Furnishing</th>\n",
       "      <th>Locality</th>\n",
       "      <th>Parking</th>\n",
       "      <th>Price</th>\n",
       "      <th>Status</th>\n",
       "      <th>Transaction</th>\n",
       "      <th>Type</th>\n",
       "      <th>Per_Sqft</th>\n",
       "    </tr>\n",
       "  </thead>\n",
       "  <tbody>\n",
       "    <tr>\n",
       "      <th>345</th>\n",
       "      <td>2970.0</td>\n",
       "      <td>7</td>\n",
       "      <td>4.0</td>\n",
       "      <td>Furnished</td>\n",
       "      <td>Yamuna Vihar, Shahdara</td>\n",
       "      <td>1.0</td>\n",
       "      <td>26500000</td>\n",
       "      <td>Ready_to_move</td>\n",
       "      <td>Resale</td>\n",
       "      <td>Builder_Floor</td>\n",
       "      <td>8923.0</td>\n",
       "    </tr>\n",
       "  </tbody>\n",
       "</table>\n",
       "</div>"
      ],
      "text/plain": [
       "       Area  BHK  Bathroom Furnishing                Locality  Parking  \\\n",
       "345  2970.0    7       4.0  Furnished  Yamuna Vihar, Shahdara      1.0   \n",
       "\n",
       "        Price         Status Transaction           Type  Per_Sqft  \n",
       "345  26500000  Ready_to_move      Resale  Builder_Floor    8923.0  "
      ]
     },
     "execution_count": 137,
     "metadata": {},
     "output_type": "execute_result"
    }
   ],
   "source": [
    "\n",
    "df[df['BHK']==7 ] \n"
   ]
  },
  {
   "cell_type": "code",
   "execution_count": 138,
   "metadata": {},
   "outputs": [
    {
     "data": {
      "text/html": [
       "<div>\n",
       "<style scoped>\n",
       "    .dataframe tbody tr th:only-of-type {\n",
       "        vertical-align: middle;\n",
       "    }\n",
       "\n",
       "    .dataframe tbody tr th {\n",
       "        vertical-align: top;\n",
       "    }\n",
       "\n",
       "    .dataframe thead th {\n",
       "        text-align: right;\n",
       "    }\n",
       "</style>\n",
       "<table border=\"1\" class=\"dataframe\">\n",
       "  <thead>\n",
       "    <tr style=\"text-align: right;\">\n",
       "      <th></th>\n",
       "      <th>Area</th>\n",
       "      <th>BHK</th>\n",
       "      <th>Bathroom</th>\n",
       "      <th>Furnishing</th>\n",
       "      <th>Locality</th>\n",
       "      <th>Parking</th>\n",
       "      <th>Price</th>\n",
       "      <th>Status</th>\n",
       "      <th>Transaction</th>\n",
       "      <th>Type</th>\n",
       "      <th>Per_Sqft</th>\n",
       "    </tr>\n",
       "  </thead>\n",
       "  <tbody>\n",
       "    <tr>\n",
       "      <th>163</th>\n",
       "      <td>4050.0</td>\n",
       "      <td>6</td>\n",
       "      <td>3.0</td>\n",
       "      <td>Furnished</td>\n",
       "      <td>Budh Vihar Phase 1</td>\n",
       "      <td>1.0</td>\n",
       "      <td>5100000</td>\n",
       "      <td>Ready_to_move</td>\n",
       "      <td>Resale</td>\n",
       "      <td>Builder_Floor</td>\n",
       "      <td>1259.0</td>\n",
       "    </tr>\n",
       "    <tr>\n",
       "      <th>164</th>\n",
       "      <td>2400.0</td>\n",
       "      <td>6</td>\n",
       "      <td>4.0</td>\n",
       "      <td>Furnished</td>\n",
       "      <td>Budh Vihar Phase 2</td>\n",
       "      <td>1.0</td>\n",
       "      <td>6000000</td>\n",
       "      <td>Ready_to_move</td>\n",
       "      <td>Resale</td>\n",
       "      <td>Builder_Floor</td>\n",
       "      <td>2500.0</td>\n",
       "    </tr>\n",
       "    <tr>\n",
       "      <th>261</th>\n",
       "      <td>2800.0</td>\n",
       "      <td>6</td>\n",
       "      <td>4.0</td>\n",
       "      <td>Semi-Furnished</td>\n",
       "      <td>Taimoor Enclave, New Friends Colony carpet are...</td>\n",
       "      <td>2.0</td>\n",
       "      <td>29500000</td>\n",
       "      <td>Ready_to_move</td>\n",
       "      <td>Resale</td>\n",
       "      <td>Apartment</td>\n",
       "      <td>15459.0</td>\n",
       "    </tr>\n",
       "    <tr>\n",
       "      <th>352</th>\n",
       "      <td>324.0</td>\n",
       "      <td>6</td>\n",
       "      <td>3.0</td>\n",
       "      <td>Furnished</td>\n",
       "      <td>Yamuna Vihar, Shahdara</td>\n",
       "      <td>1.0</td>\n",
       "      <td>8700000</td>\n",
       "      <td>Ready_to_move</td>\n",
       "      <td>Resale</td>\n",
       "      <td>Builder_Floor</td>\n",
       "      <td>35714.0</td>\n",
       "    </tr>\n",
       "    <tr>\n",
       "      <th>353</th>\n",
       "      <td>720.0</td>\n",
       "      <td>6</td>\n",
       "      <td>5.0</td>\n",
       "      <td>Furnished</td>\n",
       "      <td>Yamuna Vihar, Shahdara</td>\n",
       "      <td>1.0</td>\n",
       "      <td>22000000</td>\n",
       "      <td>Ready_to_move</td>\n",
       "      <td>Resale</td>\n",
       "      <td>Builder_Floor</td>\n",
       "      <td>35714.0</td>\n",
       "    </tr>\n",
       "    <tr>\n",
       "      <th>585</th>\n",
       "      <td>5500.0</td>\n",
       "      <td>6</td>\n",
       "      <td>7.0</td>\n",
       "      <td>Furnished</td>\n",
       "      <td>Safdarjung Enclave</td>\n",
       "      <td>1.0</td>\n",
       "      <td>160000000</td>\n",
       "      <td>Ready_to_move</td>\n",
       "      <td>Resale</td>\n",
       "      <td>Apartment</td>\n",
       "      <td>14818.0</td>\n",
       "    </tr>\n",
       "  </tbody>\n",
       "</table>\n",
       "</div>"
      ],
      "text/plain": [
       "       Area  BHK  Bathroom      Furnishing  \\\n",
       "163  4050.0    6       3.0       Furnished   \n",
       "164  2400.0    6       4.0       Furnished   \n",
       "261  2800.0    6       4.0  Semi-Furnished   \n",
       "352   324.0    6       3.0       Furnished   \n",
       "353   720.0    6       5.0       Furnished   \n",
       "585  5500.0    6       7.0       Furnished   \n",
       "\n",
       "                                              Locality  Parking      Price  \\\n",
       "163                                 Budh Vihar Phase 1      1.0    5100000   \n",
       "164                                 Budh Vihar Phase 2      1.0    6000000   \n",
       "261  Taimoor Enclave, New Friends Colony carpet are...      2.0   29500000   \n",
       "352                             Yamuna Vihar, Shahdara      1.0    8700000   \n",
       "353                             Yamuna Vihar, Shahdara      1.0   22000000   \n",
       "585                                 Safdarjung Enclave      1.0  160000000   \n",
       "\n",
       "            Status Transaction           Type  Per_Sqft  \n",
       "163  Ready_to_move      Resale  Builder_Floor    1259.0  \n",
       "164  Ready_to_move      Resale  Builder_Floor    2500.0  \n",
       "261  Ready_to_move      Resale      Apartment   15459.0  \n",
       "352  Ready_to_move      Resale  Builder_Floor   35714.0  \n",
       "353  Ready_to_move      Resale  Builder_Floor   35714.0  \n",
       "585  Ready_to_move      Resale      Apartment   14818.0  "
      ]
     },
     "execution_count": 138,
     "metadata": {},
     "output_type": "execute_result"
    }
   ],
   "source": [
    "df[df['BHK']==6 ]"
   ]
  },
  {
   "cell_type": "code",
   "execution_count": 139,
   "metadata": {},
   "outputs": [
    {
     "data": {
      "text/html": [
       "<div>\n",
       "<style scoped>\n",
       "    .dataframe tbody tr th:only-of-type {\n",
       "        vertical-align: middle;\n",
       "    }\n",
       "\n",
       "    .dataframe tbody tr th {\n",
       "        vertical-align: top;\n",
       "    }\n",
       "\n",
       "    .dataframe thead th {\n",
       "        text-align: right;\n",
       "    }\n",
       "</style>\n",
       "<table border=\"1\" class=\"dataframe\">\n",
       "  <thead>\n",
       "    <tr style=\"text-align: right;\">\n",
       "      <th></th>\n",
       "      <th>Area</th>\n",
       "      <th>BHK</th>\n",
       "      <th>Bathroom</th>\n",
       "      <th>Furnishing</th>\n",
       "      <th>Locality</th>\n",
       "      <th>Parking</th>\n",
       "      <th>Price</th>\n",
       "      <th>Status</th>\n",
       "      <th>Transaction</th>\n",
       "      <th>Type</th>\n",
       "      <th>Per_Sqft</th>\n",
       "    </tr>\n",
       "  </thead>\n",
       "  <tbody>\n",
       "    <tr>\n",
       "      <th>721</th>\n",
       "      <td>1200.0</td>\n",
       "      <td>10</td>\n",
       "      <td>4.0</td>\n",
       "      <td>Semi-Furnished</td>\n",
       "      <td>DDA Flats Sarita Vihar, Sarita Vihar, Mathura ...</td>\n",
       "      <td>2.0</td>\n",
       "      <td>17000000</td>\n",
       "      <td>Ready_to_move</td>\n",
       "      <td>Resale</td>\n",
       "      <td>Apartment</td>\n",
       "      <td>NaN</td>\n",
       "    </tr>\n",
       "  </tbody>\n",
       "</table>\n",
       "</div>"
      ],
      "text/plain": [
       "       Area  BHK  Bathroom      Furnishing  \\\n",
       "721  1200.0   10       4.0  Semi-Furnished   \n",
       "\n",
       "                                              Locality  Parking     Price  \\\n",
       "721  DDA Flats Sarita Vihar, Sarita Vihar, Mathura ...      2.0  17000000   \n",
       "\n",
       "            Status Transaction       Type  Per_Sqft  \n",
       "721  Ready_to_move      Resale  Apartment       NaN  "
      ]
     },
     "execution_count": 139,
     "metadata": {},
     "output_type": "execute_result"
    }
   ],
   "source": [
    "df[df['BHK']==10] "
   ]
  },
  {
   "cell_type": "code",
   "execution_count": 140,
   "metadata": {},
   "outputs": [],
   "source": [
    "df.drop([163,164,261,352,353,585,345,721],inplace=True)\n"
   ]
  },
  {
   "cell_type": "code",
   "execution_count": 141,
   "metadata": {},
   "outputs": [
    {
     "data": {
      "text/plain": [
       "<matplotlib.axes._subplots.AxesSubplot at 0x1c9a2c39448>"
      ]
     },
     "execution_count": 141,
     "metadata": {},
     "output_type": "execute_result"
    },
    {
     "data": {
      "image/png": "[encoded data removed]",
      "text/plain": [
       "<Figure size 1440x720 with 1 Axes>"
      ]
     },
     "metadata": {
      "needs_background": "light"
     },
     "output_type": "display_data"
    }
   ],
   "source": [
    "sns.countplot(df['Bathroom'])"
   ]
  },
  {
   "cell_type": "markdown",
   "metadata": {},
   "source": [
    "Dropping data for Bathroom having low value count"
   ]
  },
  {
   "cell_type": "code",
   "execution_count": 142,
   "metadata": {
    "scrolled": true
   },
   "outputs": [
    {
     "data": {
      "text/html": [
       "<div>\n",
       "<style scoped>\n",
       "    .dataframe tbody tr th:only-of-type {\n",
       "        vertical-align: middle;\n",
       "    }\n",
       "\n",
       "    .dataframe tbody tr th {\n",
       "        vertical-align: top;\n",
       "    }\n",
       "\n",
       "    .dataframe thead th {\n",
       "        text-align: right;\n",
       "    }\n",
       "</style>\n",
       "<table border=\"1\" class=\"dataframe\">\n",
       "  <thead>\n",
       "    <tr style=\"text-align: right;\">\n",
       "      <th></th>\n",
       "      <th>Area</th>\n",
       "      <th>BHK</th>\n",
       "      <th>Bathroom</th>\n",
       "      <th>Furnishing</th>\n",
       "      <th>Locality</th>\n",
       "      <th>Parking</th>\n",
       "      <th>Price</th>\n",
       "      <th>Status</th>\n",
       "      <th>Transaction</th>\n",
       "      <th>Type</th>\n",
       "      <th>Per_Sqft</th>\n",
       "    </tr>\n",
       "  </thead>\n",
       "  <tbody>\n",
       "    <tr>\n",
       "      <th>225</th>\n",
       "      <td>5025.0</td>\n",
       "      <td>5</td>\n",
       "      <td>6.0</td>\n",
       "      <td>Unfurnished</td>\n",
       "      <td>Greater Kailash 2</td>\n",
       "      <td>4.0</td>\n",
       "      <td>170000000</td>\n",
       "      <td>Almost_ready</td>\n",
       "      <td>New_Property</td>\n",
       "      <td>Builder_Floor</td>\n",
       "      <td>22222.0</td>\n",
       "    </tr>\n",
       "    <tr>\n",
       "      <th>495</th>\n",
       "      <td>5025.0</td>\n",
       "      <td>5</td>\n",
       "      <td>6.0</td>\n",
       "      <td>Unfurnished</td>\n",
       "      <td>Greater Kailash 2</td>\n",
       "      <td>4.0</td>\n",
       "      <td>170000000</td>\n",
       "      <td>Almost_ready</td>\n",
       "      <td>New_Property</td>\n",
       "      <td>Builder_Floor</td>\n",
       "      <td>22222.0</td>\n",
       "    </tr>\n",
       "    <tr>\n",
       "      <th>527</th>\n",
       "      <td>810.0</td>\n",
       "      <td>5</td>\n",
       "      <td>6.0</td>\n",
       "      <td>Furnished</td>\n",
       "      <td>Geeta Colony</td>\n",
       "      <td>1.0</td>\n",
       "      <td>28900000</td>\n",
       "      <td>Ready_to_move</td>\n",
       "      <td>Resale</td>\n",
       "      <td>Apartment</td>\n",
       "      <td>6667.0</td>\n",
       "    </tr>\n",
       "    <tr>\n",
       "      <th>659</th>\n",
       "      <td>3050.0</td>\n",
       "      <td>5</td>\n",
       "      <td>6.0</td>\n",
       "      <td>Semi-Furnished</td>\n",
       "      <td>Commonwealth Games Village 2010</td>\n",
       "      <td>NaN</td>\n",
       "      <td>62500000</td>\n",
       "      <td>Ready_to_move</td>\n",
       "      <td>Resale</td>\n",
       "      <td>Apartment</td>\n",
       "      <td>20492.0</td>\n",
       "    </tr>\n",
       "    <tr>\n",
       "      <th>676</th>\n",
       "      <td>3112.0</td>\n",
       "      <td>5</td>\n",
       "      <td>6.0</td>\n",
       "      <td>Semi-Furnished</td>\n",
       "      <td>Commonwealth Games Village 2010</td>\n",
       "      <td>3.0</td>\n",
       "      <td>60000000</td>\n",
       "      <td>Ready_to_move</td>\n",
       "      <td>Resale</td>\n",
       "      <td>Apartment</td>\n",
       "      <td>19280.0</td>\n",
       "    </tr>\n",
       "    <tr>\n",
       "      <th>681</th>\n",
       "      <td>2300.0</td>\n",
       "      <td>5</td>\n",
       "      <td>6.0</td>\n",
       "      <td>Semi-Furnished</td>\n",
       "      <td>Common Wealth Games Village, Commonwealth Game...</td>\n",
       "      <td>3.0</td>\n",
       "      <td>58000000</td>\n",
       "      <td>Ready_to_move</td>\n",
       "      <td>Resale</td>\n",
       "      <td>Apartment</td>\n",
       "      <td>21311.0</td>\n",
       "    </tr>\n",
       "    <tr>\n",
       "      <th>1211</th>\n",
       "      <td>4350.0</td>\n",
       "      <td>4</td>\n",
       "      <td>6.0</td>\n",
       "      <td>Semi-Furnished</td>\n",
       "      <td>Orchid Metropolis, Hauz Khas</td>\n",
       "      <td>2.0</td>\n",
       "      <td>135000000</td>\n",
       "      <td>Ready_to_move</td>\n",
       "      <td>New_Property</td>\n",
       "      <td>Apartment</td>\n",
       "      <td>170000.0</td>\n",
       "    </tr>\n",
       "  </tbody>\n",
       "</table>\n",
       "</div>"
      ],
      "text/plain": [
       "        Area  BHK  Bathroom      Furnishing  \\\n",
       "225   5025.0    5       6.0     Unfurnished   \n",
       "495   5025.0    5       6.0     Unfurnished   \n",
       "527    810.0    5       6.0       Furnished   \n",
       "659   3050.0    5       6.0  Semi-Furnished   \n",
       "676   3112.0    5       6.0  Semi-Furnished   \n",
       "681   2300.0    5       6.0  Semi-Furnished   \n",
       "1211  4350.0    4       6.0  Semi-Furnished   \n",
       "\n",
       "                                               Locality  Parking      Price  \\\n",
       "225                                   Greater Kailash 2      4.0  170000000   \n",
       "495                                   Greater Kailash 2      4.0  170000000   \n",
       "527                                        Geeta Colony      1.0   28900000   \n",
       "659                     Commonwealth Games Village 2010      NaN   62500000   \n",
       "676                     Commonwealth Games Village 2010      3.0   60000000   \n",
       "681   Common Wealth Games Village, Commonwealth Game...      3.0   58000000   \n",
       "1211                       Orchid Metropolis, Hauz Khas      2.0  135000000   \n",
       "\n",
       "             Status   Transaction           Type  Per_Sqft  \n",
       "225    Almost_ready  New_Property  Builder_Floor   22222.0  \n",
       "495    Almost_ready  New_Property  Builder_Floor   22222.0  \n",
       "527   Ready_to_move        Resale      Apartment    6667.0  \n",
       "659   Ready_to_move        Resale      Apartment   20492.0  \n",
       "676   Ready_to_move        Resale      Apartment   19280.0  \n",
       "681   Ready_to_move        Resale      Apartment   21311.0  \n",
       "1211  Ready_to_move  New_Property      Apartment  170000.0  "
      ]
     },
     "execution_count": 142,
     "metadata": {},
     "output_type": "execute_result"
    }
   ],
   "source": [
    "df[df['Bathroom']==6 ]"
   ]
  },
  {
   "cell_type": "code",
   "execution_count": 143,
   "metadata": {},
   "outputs": [
    {
     "data": {
      "text/html": [
       "<div>\n",
       "<style scoped>\n",
       "    .dataframe tbody tr th:only-of-type {\n",
       "        vertical-align: middle;\n",
       "    }\n",
       "\n",
       "    .dataframe tbody tr th {\n",
       "        vertical-align: top;\n",
       "    }\n",
       "\n",
       "    .dataframe thead th {\n",
       "        text-align: right;\n",
       "    }\n",
       "</style>\n",
       "<table border=\"1\" class=\"dataframe\">\n",
       "  <thead>\n",
       "    <tr style=\"text-align: right;\">\n",
       "      <th></th>\n",
       "      <th>Area</th>\n",
       "      <th>BHK</th>\n",
       "      <th>Bathroom</th>\n",
       "      <th>Furnishing</th>\n",
       "      <th>Locality</th>\n",
       "      <th>Parking</th>\n",
       "      <th>Price</th>\n",
       "      <th>Status</th>\n",
       "      <th>Transaction</th>\n",
       "      <th>Type</th>\n",
       "      <th>Per_Sqft</th>\n",
       "    </tr>\n",
       "  </thead>\n",
       "  <tbody>\n",
       "    <tr>\n",
       "      <th>248</th>\n",
       "      <td>10350.0</td>\n",
       "      <td>4</td>\n",
       "      <td>7.0</td>\n",
       "      <td>Semi-Furnished</td>\n",
       "      <td>Maharani Bagh, New Friends Colony</td>\n",
       "      <td>3.0</td>\n",
       "      <td>160000000</td>\n",
       "      <td>Ready_to_move</td>\n",
       "      <td>New_Property</td>\n",
       "      <td>Apartment</td>\n",
       "      <td>15459.0</td>\n",
       "    </tr>\n",
       "    <tr>\n",
       "      <th>1029</th>\n",
       "      <td>5236.0</td>\n",
       "      <td>5</td>\n",
       "      <td>7.0</td>\n",
       "      <td>Unfurnished</td>\n",
       "      <td>The Amaryllis, Karol Bagh</td>\n",
       "      <td>3.0</td>\n",
       "      <td>73700000</td>\n",
       "      <td>Almost_ready</td>\n",
       "      <td>New_Property</td>\n",
       "      <td>Apartment</td>\n",
       "      <td>14092.0</td>\n",
       "    </tr>\n",
       "  </tbody>\n",
       "</table>\n",
       "</div>"
      ],
      "text/plain": [
       "         Area  BHK  Bathroom      Furnishing  \\\n",
       "248   10350.0    4       7.0  Semi-Furnished   \n",
       "1029   5236.0    5       7.0     Unfurnished   \n",
       "\n",
       "                               Locality  Parking      Price         Status  \\\n",
       "248   Maharani Bagh, New Friends Colony      3.0  160000000  Ready_to_move   \n",
       "1029          The Amaryllis, Karol Bagh      3.0   73700000   Almost_ready   \n",
       "\n",
       "       Transaction       Type  Per_Sqft  \n",
       "248   New_Property  Apartment   15459.0  \n",
       "1029  New_Property  Apartment   14092.0  "
      ]
     },
     "execution_count": 143,
     "metadata": {},
     "output_type": "execute_result"
    }
   ],
   "source": [
    "df[df['Bathroom']==7]"
   ]
  },
  {
   "cell_type": "code",
   "execution_count": 144,
   "metadata": {},
   "outputs": [],
   "source": [
    "df.drop([248,1029,1211,681,676,659,527,495,225],inplace=True)"
   ]
  },
  {
   "cell_type": "code",
   "execution_count": 145,
   "metadata": {},
   "outputs": [
    {
     "data": {
      "text/html": [
       "<div>\n",
       "<style scoped>\n",
       "    .dataframe tbody tr th:only-of-type {\n",
       "        vertical-align: middle;\n",
       "    }\n",
       "\n",
       "    .dataframe tbody tr th {\n",
       "        vertical-align: top;\n",
       "    }\n",
       "\n",
       "    .dataframe thead th {\n",
       "        text-align: right;\n",
       "    }\n",
       "</style>\n",
       "<table border=\"1\" class=\"dataframe\">\n",
       "  <thead>\n",
       "    <tr style=\"text-align: right;\">\n",
       "      <th></th>\n",
       "      <th>Area</th>\n",
       "      <th>BHK</th>\n",
       "      <th>Bathroom</th>\n",
       "      <th>Furnishing</th>\n",
       "      <th>Locality</th>\n",
       "      <th>Parking</th>\n",
       "      <th>Price</th>\n",
       "      <th>Status</th>\n",
       "      <th>Transaction</th>\n",
       "      <th>Type</th>\n",
       "      <th>Per_Sqft</th>\n",
       "    </tr>\n",
       "  </thead>\n",
       "  <tbody>\n",
       "    <tr>\n",
       "      <th>0</th>\n",
       "      <td>800.0</td>\n",
       "      <td>3</td>\n",
       "      <td>2.0</td>\n",
       "      <td>Semi-Furnished</td>\n",
       "      <td>Rohini Sector 25</td>\n",
       "      <td>1.0</td>\n",
       "      <td>6500000</td>\n",
       "      <td>Ready_to_move</td>\n",
       "      <td>New_Property</td>\n",
       "      <td>Builder_Floor</td>\n",
       "      <td>NaN</td>\n",
       "    </tr>\n",
       "    <tr>\n",
       "      <th>1</th>\n",
       "      <td>750.0</td>\n",
       "      <td>2</td>\n",
       "      <td>2.0</td>\n",
       "      <td>Semi-Furnished</td>\n",
       "      <td>J R Designers Floors, Rohini Sector 24</td>\n",
       "      <td>1.0</td>\n",
       "      <td>5000000</td>\n",
       "      <td>Ready_to_move</td>\n",
       "      <td>New_Property</td>\n",
       "      <td>Apartment</td>\n",
       "      <td>6667.0</td>\n",
       "    </tr>\n",
       "    <tr>\n",
       "      <th>2</th>\n",
       "      <td>950.0</td>\n",
       "      <td>2</td>\n",
       "      <td>2.0</td>\n",
       "      <td>Furnished</td>\n",
       "      <td>Citizen Apartment, Rohini Sector 13</td>\n",
       "      <td>1.0</td>\n",
       "      <td>15500000</td>\n",
       "      <td>Ready_to_move</td>\n",
       "      <td>Resale</td>\n",
       "      <td>Apartment</td>\n",
       "      <td>6667.0</td>\n",
       "    </tr>\n",
       "    <tr>\n",
       "      <th>3</th>\n",
       "      <td>600.0</td>\n",
       "      <td>2</td>\n",
       "      <td>2.0</td>\n",
       "      <td>Semi-Furnished</td>\n",
       "      <td>Rohini Sector 24</td>\n",
       "      <td>1.0</td>\n",
       "      <td>4200000</td>\n",
       "      <td>Ready_to_move</td>\n",
       "      <td>Resale</td>\n",
       "      <td>Builder_Floor</td>\n",
       "      <td>6667.0</td>\n",
       "    </tr>\n",
       "    <tr>\n",
       "      <th>4</th>\n",
       "      <td>650.0</td>\n",
       "      <td>2</td>\n",
       "      <td>2.0</td>\n",
       "      <td>Semi-Furnished</td>\n",
       "      <td>Rohini Sector 24 carpet area 650 sqft status R...</td>\n",
       "      <td>1.0</td>\n",
       "      <td>6200000</td>\n",
       "      <td>Ready_to_move</td>\n",
       "      <td>New_Property</td>\n",
       "      <td>Builder_Floor</td>\n",
       "      <td>6667.0</td>\n",
       "    </tr>\n",
       "  </tbody>\n",
       "</table>\n",
       "</div>"
      ],
      "text/plain": [
       "    Area  BHK  Bathroom      Furnishing  \\\n",
       "0  800.0    3       2.0  Semi-Furnished   \n",
       "1  750.0    2       2.0  Semi-Furnished   \n",
       "2  950.0    2       2.0       Furnished   \n",
       "3  600.0    2       2.0  Semi-Furnished   \n",
       "4  650.0    2       2.0  Semi-Furnished   \n",
       "\n",
       "                                            Locality  Parking     Price  \\\n",
       "0                                   Rohini Sector 25      1.0   6500000   \n",
       "1             J R Designers Floors, Rohini Sector 24      1.0   5000000   \n",
       "2                Citizen Apartment, Rohini Sector 13      1.0  15500000   \n",
       "3                                   Rohini Sector 24      1.0   4200000   \n",
       "4  Rohini Sector 24 carpet area 650 sqft status R...      1.0   6200000   \n",
       "\n",
       "          Status   Transaction           Type  Per_Sqft  \n",
       "0  Ready_to_move  New_Property  Builder_Floor       NaN  \n",
       "1  Ready_to_move  New_Property      Apartment    6667.0  \n",
       "2  Ready_to_move        Resale      Apartment    6667.0  \n",
       "3  Ready_to_move        Resale  Builder_Floor    6667.0  \n",
       "4  Ready_to_move  New_Property  Builder_Floor    6667.0  "
      ]
     },
     "execution_count": 145,
     "metadata": {},
     "output_type": "execute_result"
    }
   ],
   "source": [
    "df.head()"
   ]
  },
  {
   "cell_type": "code",
   "execution_count": 146,
   "metadata": {},
   "outputs": [
    {
     "data": {
      "text/plain": [
       "<matplotlib.axes._subplots.AxesSubplot at 0x1c9a2cada48>"
      ]
     },
     "execution_count": 146,
     "metadata": {},
     "output_type": "execute_result"
    },
    {
     "data": {
      "image/png": "[encoded data removed]",
      "text/plain": [
       "<Figure size 1440x720 with 1 Axes>"
      ]
     },
     "metadata": {
      "needs_background": "light"
     },
     "output_type": "display_data"
    }
   ],
   "source": [
    "sns.countplot(df['Furnishing'])"
   ]
  },
  {
   "cell_type": "code",
   "execution_count": 147,
   "metadata": {},
   "outputs": [
    {
     "data": {
      "text/plain": [
       "<matplotlib.axes._subplots.AxesSubplot at 0x1c9a2ff5ec8>"
      ]
     },
     "execution_count": 147,
     "metadata": {},
     "output_type": "execute_result"
    },
    {
     "data": {
      "image/png": "[encoded data removed]",
      "text/plain": [
       "<Figure size 1440x720 with 1 Axes>"
      ]
     },
     "metadata": {
      "needs_background": "light"
     },
     "output_type": "display_data"
    }
   ],
   "source": [
    "sns.countplot(df['Parking'])"
   ]
  },
  {
   "cell_type": "markdown",
   "metadata": {},
   "source": [
    "Filling null values of Parking"
   ]
  },
  {
   "cell_type": "code",
   "execution_count": 148,
   "metadata": {},
   "outputs": [
    {
     "data": {
      "text/html": [
       "<div>\n",
       "<style scoped>\n",
       "    .dataframe tbody tr th:only-of-type {\n",
       "        vertical-align: middle;\n",
       "    }\n",
       "\n",
       "    .dataframe tbody tr th {\n",
       "        vertical-align: top;\n",
       "    }\n",
       "\n",
       "    .dataframe thead th {\n",
       "        text-align: right;\n",
       "    }\n",
       "</style>\n",
       "<table border=\"1\" class=\"dataframe\">\n",
       "  <thead>\n",
       "    <tr style=\"text-align: right;\">\n",
       "      <th></th>\n",
       "      <th>Area</th>\n",
       "      <th>BHK</th>\n",
       "      <th>Bathroom</th>\n",
       "      <th>Furnishing</th>\n",
       "      <th>Locality</th>\n",
       "      <th>Parking</th>\n",
       "      <th>Price</th>\n",
       "      <th>Status</th>\n",
       "      <th>Transaction</th>\n",
       "      <th>Type</th>\n",
       "      <th>Per_Sqft</th>\n",
       "    </tr>\n",
       "  </thead>\n",
       "  <tbody>\n",
       "    <tr>\n",
       "      <th>0</th>\n",
       "      <td>800.0</td>\n",
       "      <td>3</td>\n",
       "      <td>2.0</td>\n",
       "      <td>Semi-Furnished</td>\n",
       "      <td>Rohini Sector 25</td>\n",
       "      <td>1.0</td>\n",
       "      <td>6500000</td>\n",
       "      <td>Ready_to_move</td>\n",
       "      <td>New_Property</td>\n",
       "      <td>Builder_Floor</td>\n",
       "      <td>NaN</td>\n",
       "    </tr>\n",
       "    <tr>\n",
       "      <th>1</th>\n",
       "      <td>750.0</td>\n",
       "      <td>2</td>\n",
       "      <td>2.0</td>\n",
       "      <td>Semi-Furnished</td>\n",
       "      <td>J R Designers Floors, Rohini Sector 24</td>\n",
       "      <td>1.0</td>\n",
       "      <td>5000000</td>\n",
       "      <td>Ready_to_move</td>\n",
       "      <td>New_Property</td>\n",
       "      <td>Apartment</td>\n",
       "      <td>6667.0</td>\n",
       "    </tr>\n",
       "    <tr>\n",
       "      <th>2</th>\n",
       "      <td>950.0</td>\n",
       "      <td>2</td>\n",
       "      <td>2.0</td>\n",
       "      <td>Furnished</td>\n",
       "      <td>Citizen Apartment, Rohini Sector 13</td>\n",
       "      <td>1.0</td>\n",
       "      <td>15500000</td>\n",
       "      <td>Ready_to_move</td>\n",
       "      <td>Resale</td>\n",
       "      <td>Apartment</td>\n",
       "      <td>6667.0</td>\n",
       "    </tr>\n",
       "    <tr>\n",
       "      <th>3</th>\n",
       "      <td>600.0</td>\n",
       "      <td>2</td>\n",
       "      <td>2.0</td>\n",
       "      <td>Semi-Furnished</td>\n",
       "      <td>Rohini Sector 24</td>\n",
       "      <td>1.0</td>\n",
       "      <td>4200000</td>\n",
       "      <td>Ready_to_move</td>\n",
       "      <td>Resale</td>\n",
       "      <td>Builder_Floor</td>\n",
       "      <td>6667.0</td>\n",
       "    </tr>\n",
       "    <tr>\n",
       "      <th>4</th>\n",
       "      <td>650.0</td>\n",
       "      <td>2</td>\n",
       "      <td>2.0</td>\n",
       "      <td>Semi-Furnished</td>\n",
       "      <td>Rohini Sector 24 carpet area 650 sqft status R...</td>\n",
       "      <td>1.0</td>\n",
       "      <td>6200000</td>\n",
       "      <td>Ready_to_move</td>\n",
       "      <td>New_Property</td>\n",
       "      <td>Builder_Floor</td>\n",
       "      <td>6667.0</td>\n",
       "    </tr>\n",
       "  </tbody>\n",
       "</table>\n",
       "</div>"
      ],
      "text/plain": [
       "    Area  BHK  Bathroom      Furnishing  \\\n",
       "0  800.0    3       2.0  Semi-Furnished   \n",
       "1  750.0    2       2.0  Semi-Furnished   \n",
       "2  950.0    2       2.0       Furnished   \n",
       "3  600.0    2       2.0  Semi-Furnished   \n",
       "4  650.0    2       2.0  Semi-Furnished   \n",
       "\n",
       "                                            Locality  Parking     Price  \\\n",
       "0                                   Rohini Sector 25      1.0   6500000   \n",
       "1             J R Designers Floors, Rohini Sector 24      1.0   5000000   \n",
       "2                Citizen Apartment, Rohini Sector 13      1.0  15500000   \n",
       "3                                   Rohini Sector 24      1.0   4200000   \n",
       "4  Rohini Sector 24 carpet area 650 sqft status R...      1.0   6200000   \n",
       "\n",
       "          Status   Transaction           Type  Per_Sqft  \n",
       "0  Ready_to_move  New_Property  Builder_Floor       NaN  \n",
       "1  Ready_to_move  New_Property      Apartment    6667.0  \n",
       "2  Ready_to_move        Resale      Apartment    6667.0  \n",
       "3  Ready_to_move        Resale  Builder_Floor    6667.0  \n",
       "4  Ready_to_move  New_Property  Builder_Floor    6667.0  "
      ]
     },
     "execution_count": 148,
     "metadata": {},
     "output_type": "execute_result"
    }
   ],
   "source": [
    "import math\n",
    "parking=math.floor(df.Parking.median())\n",
    "df.Parking=df.Parking.fillna(parking)\n",
    "df.head()"
   ]
  },
  {
   "cell_type": "code",
   "execution_count": 149,
   "metadata": {},
   "outputs": [
    {
     "data": {
      "text/plain": [
       "1.0      821\n",
       "2.0      338\n",
       "3.0       50\n",
       "4.0       14\n",
       "39.0       7\n",
       "5.0        7\n",
       "114.0      3\n",
       "10.0       1\n",
       "9.0        1\n",
       "Name: Parking, dtype: int64"
      ]
     },
     "execution_count": 149,
     "metadata": {},
     "output_type": "execute_result"
    }
   ],
   "source": [
    "df.Parking.value_counts()"
   ]
  },
  {
   "cell_type": "markdown",
   "metadata": {},
   "source": [
    "Dropping values of Parking for which value count is very low"
   ]
  },
  {
   "cell_type": "code",
   "execution_count": 150,
   "metadata": {},
   "outputs": [
    {
     "data": {
      "text/html": [
       "<div>\n",
       "<style scoped>\n",
       "    .dataframe tbody tr th:only-of-type {\n",
       "        vertical-align: middle;\n",
       "    }\n",
       "\n",
       "    .dataframe tbody tr th {\n",
       "        vertical-align: top;\n",
       "    }\n",
       "\n",
       "    .dataframe thead th {\n",
       "        text-align: right;\n",
       "    }\n",
       "</style>\n",
       "<table border=\"1\" class=\"dataframe\">\n",
       "  <thead>\n",
       "    <tr style=\"text-align: right;\">\n",
       "      <th></th>\n",
       "      <th>Area</th>\n",
       "      <th>BHK</th>\n",
       "      <th>Bathroom</th>\n",
       "      <th>Furnishing</th>\n",
       "      <th>Locality</th>\n",
       "      <th>Parking</th>\n",
       "      <th>Price</th>\n",
       "      <th>Status</th>\n",
       "      <th>Transaction</th>\n",
       "      <th>Type</th>\n",
       "      <th>Per_Sqft</th>\n",
       "    </tr>\n",
       "  </thead>\n",
       "  <tbody>\n",
       "    <tr>\n",
       "      <th>969</th>\n",
       "      <td>900.0</td>\n",
       "      <td>2</td>\n",
       "      <td>2.0</td>\n",
       "      <td>Unfurnished</td>\n",
       "      <td>Mangal Apartment, Vasundhara Enclave</td>\n",
       "      <td>114.0</td>\n",
       "      <td>9000000</td>\n",
       "      <td>Ready_to_move</td>\n",
       "      <td>Resale</td>\n",
       "      <td>Apartment</td>\n",
       "      <td>NaN</td>\n",
       "    </tr>\n",
       "    <tr>\n",
       "      <th>970</th>\n",
       "      <td>1100.0</td>\n",
       "      <td>2</td>\n",
       "      <td>2.0</td>\n",
       "      <td>Semi-Furnished</td>\n",
       "      <td>Vasundhara Enclave</td>\n",
       "      <td>114.0</td>\n",
       "      <td>10000000</td>\n",
       "      <td>Ready_to_move</td>\n",
       "      <td>Resale</td>\n",
       "      <td>Apartment</td>\n",
       "      <td>NaN</td>\n",
       "    </tr>\n",
       "    <tr>\n",
       "      <th>971</th>\n",
       "      <td>950.0</td>\n",
       "      <td>2</td>\n",
       "      <td>2.0</td>\n",
       "      <td>Unfurnished</td>\n",
       "      <td>Vasundhara Enclave</td>\n",
       "      <td>114.0</td>\n",
       "      <td>8100000</td>\n",
       "      <td>Ready_to_move</td>\n",
       "      <td>Resale</td>\n",
       "      <td>Apartment</td>\n",
       "      <td>NaN</td>\n",
       "    </tr>\n",
       "  </tbody>\n",
       "</table>\n",
       "</div>"
      ],
      "text/plain": [
       "       Area  BHK  Bathroom      Furnishing  \\\n",
       "969   900.0    2       2.0     Unfurnished   \n",
       "970  1100.0    2       2.0  Semi-Furnished   \n",
       "971   950.0    2       2.0     Unfurnished   \n",
       "\n",
       "                                 Locality  Parking     Price         Status  \\\n",
       "969  Mangal Apartment, Vasundhara Enclave    114.0   9000000  Ready_to_move   \n",
       "970                    Vasundhara Enclave    114.0  10000000  Ready_to_move   \n",
       "971                    Vasundhara Enclave    114.0   8100000  Ready_to_move   \n",
       "\n",
       "    Transaction       Type  Per_Sqft  \n",
       "969      Resale  Apartment       NaN  \n",
       "970      Resale  Apartment       NaN  \n",
       "971      Resale  Apartment       NaN  "
      ]
     },
     "execution_count": 150,
     "metadata": {},
     "output_type": "execute_result"
    }
   ],
   "source": [
    "df[df['Parking']==114]"
   ]
  },
  {
   "cell_type": "code",
   "execution_count": 151,
   "metadata": {},
   "outputs": [
    {
     "data": {
      "text/html": [
       "<div>\n",
       "<style scoped>\n",
       "    .dataframe tbody tr th:only-of-type {\n",
       "        vertical-align: middle;\n",
       "    }\n",
       "\n",
       "    .dataframe tbody tr th {\n",
       "        vertical-align: top;\n",
       "    }\n",
       "\n",
       "    .dataframe thead th {\n",
       "        text-align: right;\n",
       "    }\n",
       "</style>\n",
       "<table border=\"1\" class=\"dataframe\">\n",
       "  <thead>\n",
       "    <tr style=\"text-align: right;\">\n",
       "      <th></th>\n",
       "      <th>Area</th>\n",
       "      <th>BHK</th>\n",
       "      <th>Bathroom</th>\n",
       "      <th>Furnishing</th>\n",
       "      <th>Locality</th>\n",
       "      <th>Parking</th>\n",
       "      <th>Price</th>\n",
       "      <th>Status</th>\n",
       "      <th>Transaction</th>\n",
       "      <th>Type</th>\n",
       "      <th>Per_Sqft</th>\n",
       "    </tr>\n",
       "  </thead>\n",
       "  <tbody>\n",
       "    <tr>\n",
       "      <th>941</th>\n",
       "      <td>1076.39</td>\n",
       "      <td>3</td>\n",
       "      <td>2.0</td>\n",
       "      <td>Unfurnished</td>\n",
       "      <td>Dilshad Colony, Dilshad Garden</td>\n",
       "      <td>10.0</td>\n",
       "      <td>9300000</td>\n",
       "      <td>Ready_to_move</td>\n",
       "      <td>Resale</td>\n",
       "      <td>Builder_Floor</td>\n",
       "      <td>8640.0</td>\n",
       "    </tr>\n",
       "  </tbody>\n",
       "</table>\n",
       "</div>"
      ],
      "text/plain": [
       "        Area  BHK  Bathroom   Furnishing                        Locality  \\\n",
       "941  1076.39    3       2.0  Unfurnished  Dilshad Colony, Dilshad Garden   \n",
       "\n",
       "     Parking    Price         Status Transaction           Type  Per_Sqft  \n",
       "941     10.0  9300000  Ready_to_move      Resale  Builder_Floor    8640.0  "
      ]
     },
     "execution_count": 151,
     "metadata": {},
     "output_type": "execute_result"
    }
   ],
   "source": [
    "df[df['Parking']==10]"
   ]
  },
  {
   "cell_type": "code",
   "execution_count": 152,
   "metadata": {},
   "outputs": [
    {
     "data": {
      "text/html": [
       "<div>\n",
       "<style scoped>\n",
       "    .dataframe tbody tr th:only-of-type {\n",
       "        vertical-align: middle;\n",
       "    }\n",
       "\n",
       "    .dataframe tbody tr th {\n",
       "        vertical-align: top;\n",
       "    }\n",
       "\n",
       "    .dataframe thead th {\n",
       "        text-align: right;\n",
       "    }\n",
       "</style>\n",
       "<table border=\"1\" class=\"dataframe\">\n",
       "  <thead>\n",
       "    <tr style=\"text-align: right;\">\n",
       "      <th></th>\n",
       "      <th>Area</th>\n",
       "      <th>BHK</th>\n",
       "      <th>Bathroom</th>\n",
       "      <th>Furnishing</th>\n",
       "      <th>Locality</th>\n",
       "      <th>Parking</th>\n",
       "      <th>Price</th>\n",
       "      <th>Status</th>\n",
       "      <th>Transaction</th>\n",
       "      <th>Type</th>\n",
       "      <th>Per_Sqft</th>\n",
       "    </tr>\n",
       "  </thead>\n",
       "  <tbody>\n",
       "    <tr>\n",
       "      <th>242</th>\n",
       "      <td>6000.0</td>\n",
       "      <td>5</td>\n",
       "      <td>5.0</td>\n",
       "      <td>Semi-Furnished</td>\n",
       "      <td>Maharani Bagh, New Friends Colony</td>\n",
       "      <td>9.0</td>\n",
       "      <td>220000000</td>\n",
       "      <td>Ready_to_move</td>\n",
       "      <td>New_Property</td>\n",
       "      <td>Builder_Floor</td>\n",
       "      <td>120000.0</td>\n",
       "    </tr>\n",
       "  </tbody>\n",
       "</table>\n",
       "</div>"
      ],
      "text/plain": [
       "       Area  BHK  Bathroom      Furnishing                           Locality  \\\n",
       "242  6000.0    5       5.0  Semi-Furnished  Maharani Bagh, New Friends Colony   \n",
       "\n",
       "     Parking      Price         Status   Transaction           Type  Per_Sqft  \n",
       "242      9.0  220000000  Ready_to_move  New_Property  Builder_Floor  120000.0  "
      ]
     },
     "execution_count": 152,
     "metadata": {},
     "output_type": "execute_result"
    }
   ],
   "source": [
    "df[df['Parking']==9]"
   ]
  },
  {
   "cell_type": "code",
   "execution_count": 153,
   "metadata": {},
   "outputs": [],
   "source": [
    "df.drop([242,941,969,970,971],inplace=True)\n"
   ]
  },
  {
   "cell_type": "code",
   "execution_count": 154,
   "metadata": {},
   "outputs": [
    {
     "data": {
      "text/plain": [
       "1.0     821\n",
       "2.0     338\n",
       "3.0      50\n",
       "4.0      14\n",
       "39.0      7\n",
       "5.0       7\n",
       "Name: Parking, dtype: int64"
      ]
     },
     "execution_count": 154,
     "metadata": {},
     "output_type": "execute_result"
    }
   ],
   "source": [
    "df.Parking.value_counts()"
   ]
  },
  {
   "cell_type": "markdown",
   "metadata": {},
   "source": [
    "Filling null values of Bathroom"
   ]
  },
  {
   "cell_type": "code",
   "execution_count": 156,
   "metadata": {},
   "outputs": [
    {
     "data": {
      "text/html": [
       "<div>\n",
       "<style scoped>\n",
       "    .dataframe tbody tr th:only-of-type {\n",
       "        vertical-align: middle;\n",
       "    }\n",
       "\n",
       "    .dataframe tbody tr th {\n",
       "        vertical-align: top;\n",
       "    }\n",
       "\n",
       "    .dataframe thead th {\n",
       "        text-align: right;\n",
       "    }\n",
       "</style>\n",
       "<table border=\"1\" class=\"dataframe\">\n",
       "  <thead>\n",
       "    <tr style=\"text-align: right;\">\n",
       "      <th></th>\n",
       "      <th>Area</th>\n",
       "      <th>BHK</th>\n",
       "      <th>Bathroom</th>\n",
       "      <th>Furnishing</th>\n",
       "      <th>Locality</th>\n",
       "      <th>Parking</th>\n",
       "      <th>Price</th>\n",
       "      <th>Status</th>\n",
       "      <th>Transaction</th>\n",
       "      <th>Type</th>\n",
       "      <th>Per_Sqft</th>\n",
       "    </tr>\n",
       "  </thead>\n",
       "  <tbody>\n",
       "    <tr>\n",
       "      <th>0</th>\n",
       "      <td>800.0</td>\n",
       "      <td>3</td>\n",
       "      <td>2.0</td>\n",
       "      <td>Semi-Furnished</td>\n",
       "      <td>Rohini Sector 25</td>\n",
       "      <td>1.0</td>\n",
       "      <td>6500000</td>\n",
       "      <td>Ready_to_move</td>\n",
       "      <td>New_Property</td>\n",
       "      <td>Builder_Floor</td>\n",
       "      <td>NaN</td>\n",
       "    </tr>\n",
       "    <tr>\n",
       "      <th>1</th>\n",
       "      <td>750.0</td>\n",
       "      <td>2</td>\n",
       "      <td>2.0</td>\n",
       "      <td>Semi-Furnished</td>\n",
       "      <td>J R Designers Floors, Rohini Sector 24</td>\n",
       "      <td>1.0</td>\n",
       "      <td>5000000</td>\n",
       "      <td>Ready_to_move</td>\n",
       "      <td>New_Property</td>\n",
       "      <td>Apartment</td>\n",
       "      <td>6667.0</td>\n",
       "    </tr>\n",
       "    <tr>\n",
       "      <th>2</th>\n",
       "      <td>950.0</td>\n",
       "      <td>2</td>\n",
       "      <td>2.0</td>\n",
       "      <td>Furnished</td>\n",
       "      <td>Citizen Apartment, Rohini Sector 13</td>\n",
       "      <td>1.0</td>\n",
       "      <td>15500000</td>\n",
       "      <td>Ready_to_move</td>\n",
       "      <td>Resale</td>\n",
       "      <td>Apartment</td>\n",
       "      <td>6667.0</td>\n",
       "    </tr>\n",
       "    <tr>\n",
       "      <th>3</th>\n",
       "      <td>600.0</td>\n",
       "      <td>2</td>\n",
       "      <td>2.0</td>\n",
       "      <td>Semi-Furnished</td>\n",
       "      <td>Rohini Sector 24</td>\n",
       "      <td>1.0</td>\n",
       "      <td>4200000</td>\n",
       "      <td>Ready_to_move</td>\n",
       "      <td>Resale</td>\n",
       "      <td>Builder_Floor</td>\n",
       "      <td>6667.0</td>\n",
       "    </tr>\n",
       "    <tr>\n",
       "      <th>4</th>\n",
       "      <td>650.0</td>\n",
       "      <td>2</td>\n",
       "      <td>2.0</td>\n",
       "      <td>Semi-Furnished</td>\n",
       "      <td>Rohini Sector 24 carpet area 650 sqft status R...</td>\n",
       "      <td>1.0</td>\n",
       "      <td>6200000</td>\n",
       "      <td>Ready_to_move</td>\n",
       "      <td>New_Property</td>\n",
       "      <td>Builder_Floor</td>\n",
       "      <td>6667.0</td>\n",
       "    </tr>\n",
       "  </tbody>\n",
       "</table>\n",
       "</div>"
      ],
      "text/plain": [
       "    Area  BHK  Bathroom      Furnishing  \\\n",
       "0  800.0    3       2.0  Semi-Furnished   \n",
       "1  750.0    2       2.0  Semi-Furnished   \n",
       "2  950.0    2       2.0       Furnished   \n",
       "3  600.0    2       2.0  Semi-Furnished   \n",
       "4  650.0    2       2.0  Semi-Furnished   \n",
       "\n",
       "                                            Locality  Parking     Price  \\\n",
       "0                                   Rohini Sector 25      1.0   6500000   \n",
       "1             J R Designers Floors, Rohini Sector 24      1.0   5000000   \n",
       "2                Citizen Apartment, Rohini Sector 13      1.0  15500000   \n",
       "3                                   Rohini Sector 24      1.0   4200000   \n",
       "4  Rohini Sector 24 carpet area 650 sqft status R...      1.0   6200000   \n",
       "\n",
       "          Status   Transaction           Type  Per_Sqft  \n",
       "0  Ready_to_move  New_Property  Builder_Floor       NaN  \n",
       "1  Ready_to_move  New_Property      Apartment    6667.0  \n",
       "2  Ready_to_move        Resale      Apartment    6667.0  \n",
       "3  Ready_to_move        Resale  Builder_Floor    6667.0  \n",
       "4  Ready_to_move  New_Property  Builder_Floor    6667.0  "
      ]
     },
     "execution_count": 156,
     "metadata": {},
     "output_type": "execute_result"
    }
   ],
   "source": [
    "median_bathroom=math.floor(df.Bathroom.median())\n",
    "df.Bathroom=df.Bathroom.fillna(median_bathroom)\n",
    "df.head()"
   ]
  },
  {
   "cell_type": "code",
   "execution_count": 157,
   "metadata": {},
   "outputs": [
    {
     "data": {
      "text/plain": [
       "Area             0\n",
       "BHK              0\n",
       "Bathroom         0\n",
       "Furnishing       5\n",
       "Locality         0\n",
       "Parking          0\n",
       "Price            0\n",
       "Status           0\n",
       "Transaction      0\n",
       "Type             5\n",
       "Per_Sqft       237\n",
       "dtype: int64"
      ]
     },
     "execution_count": 157,
     "metadata": {},
     "output_type": "execute_result"
    }
   ],
   "source": [
    "df.isnull().sum()"
   ]
  },
  {
   "cell_type": "markdown",
   "metadata": {},
   "source": [
    "Filling null values of Per_Sqft"
   ]
  },
  {
   "cell_type": "code",
   "execution_count": 158,
   "metadata": {},
   "outputs": [
    {
     "data": {
      "text/html": [
       "<div>\n",
       "<style scoped>\n",
       "    .dataframe tbody tr th:only-of-type {\n",
       "        vertical-align: middle;\n",
       "    }\n",
       "\n",
       "    .dataframe tbody tr th {\n",
       "        vertical-align: top;\n",
       "    }\n",
       "\n",
       "    .dataframe thead th {\n",
       "        text-align: right;\n",
       "    }\n",
       "</style>\n",
       "<table border=\"1\" class=\"dataframe\">\n",
       "  <thead>\n",
       "    <tr style=\"text-align: right;\">\n",
       "      <th></th>\n",
       "      <th>Area</th>\n",
       "      <th>BHK</th>\n",
       "      <th>Bathroom</th>\n",
       "      <th>Furnishing</th>\n",
       "      <th>Locality</th>\n",
       "      <th>Parking</th>\n",
       "      <th>Price</th>\n",
       "      <th>Status</th>\n",
       "      <th>Transaction</th>\n",
       "      <th>Type</th>\n",
       "      <th>Per_Sqft</th>\n",
       "    </tr>\n",
       "  </thead>\n",
       "  <tbody>\n",
       "    <tr>\n",
       "      <th>0</th>\n",
       "      <td>800.0</td>\n",
       "      <td>3</td>\n",
       "      <td>2.0</td>\n",
       "      <td>Semi-Furnished</td>\n",
       "      <td>Rohini Sector 25</td>\n",
       "      <td>1.0</td>\n",
       "      <td>6500000</td>\n",
       "      <td>Ready_to_move</td>\n",
       "      <td>New_Property</td>\n",
       "      <td>Builder_Floor</td>\n",
       "      <td>8125.0</td>\n",
       "    </tr>\n",
       "    <tr>\n",
       "      <th>1</th>\n",
       "      <td>750.0</td>\n",
       "      <td>2</td>\n",
       "      <td>2.0</td>\n",
       "      <td>Semi-Furnished</td>\n",
       "      <td>J R Designers Floors, Rohini Sector 24</td>\n",
       "      <td>1.0</td>\n",
       "      <td>5000000</td>\n",
       "      <td>Ready_to_move</td>\n",
       "      <td>New_Property</td>\n",
       "      <td>Apartment</td>\n",
       "      <td>6667.0</td>\n",
       "    </tr>\n",
       "    <tr>\n",
       "      <th>2</th>\n",
       "      <td>950.0</td>\n",
       "      <td>2</td>\n",
       "      <td>2.0</td>\n",
       "      <td>Furnished</td>\n",
       "      <td>Citizen Apartment, Rohini Sector 13</td>\n",
       "      <td>1.0</td>\n",
       "      <td>15500000</td>\n",
       "      <td>Ready_to_move</td>\n",
       "      <td>Resale</td>\n",
       "      <td>Apartment</td>\n",
       "      <td>6667.0</td>\n",
       "    </tr>\n",
       "    <tr>\n",
       "      <th>3</th>\n",
       "      <td>600.0</td>\n",
       "      <td>2</td>\n",
       "      <td>2.0</td>\n",
       "      <td>Semi-Furnished</td>\n",
       "      <td>Rohini Sector 24</td>\n",
       "      <td>1.0</td>\n",
       "      <td>4200000</td>\n",
       "      <td>Ready_to_move</td>\n",
       "      <td>Resale</td>\n",
       "      <td>Builder_Floor</td>\n",
       "      <td>6667.0</td>\n",
       "    </tr>\n",
       "    <tr>\n",
       "      <th>4</th>\n",
       "      <td>650.0</td>\n",
       "      <td>2</td>\n",
       "      <td>2.0</td>\n",
       "      <td>Semi-Furnished</td>\n",
       "      <td>Rohini Sector 24 carpet area 650 sqft status R...</td>\n",
       "      <td>1.0</td>\n",
       "      <td>6200000</td>\n",
       "      <td>Ready_to_move</td>\n",
       "      <td>New_Property</td>\n",
       "      <td>Builder_Floor</td>\n",
       "      <td>6667.0</td>\n",
       "    </tr>\n",
       "  </tbody>\n",
       "</table>\n",
       "</div>"
      ],
      "text/plain": [
       "    Area  BHK  Bathroom      Furnishing  \\\n",
       "0  800.0    3       2.0  Semi-Furnished   \n",
       "1  750.0    2       2.0  Semi-Furnished   \n",
       "2  950.0    2       2.0       Furnished   \n",
       "3  600.0    2       2.0  Semi-Furnished   \n",
       "4  650.0    2       2.0  Semi-Furnished   \n",
       "\n",
       "                                            Locality  Parking     Price  \\\n",
       "0                                   Rohini Sector 25      1.0   6500000   \n",
       "1             J R Designers Floors, Rohini Sector 24      1.0   5000000   \n",
       "2                Citizen Apartment, Rohini Sector 13      1.0  15500000   \n",
       "3                                   Rohini Sector 24      1.0   4200000   \n",
       "4  Rohini Sector 24 carpet area 650 sqft status R...      1.0   6200000   \n",
       "\n",
       "          Status   Transaction           Type  Per_Sqft  \n",
       "0  Ready_to_move  New_Property  Builder_Floor    8125.0  \n",
       "1  Ready_to_move  New_Property      Apartment    6667.0  \n",
       "2  Ready_to_move        Resale      Apartment    6667.0  \n",
       "3  Ready_to_move        Resale  Builder_Floor    6667.0  \n",
       "4  Ready_to_move  New_Property  Builder_Floor    6667.0  "
      ]
     },
     "execution_count": 158,
     "metadata": {},
     "output_type": "execute_result"
    }
   ],
   "source": [
    "perSqft=df.Price/df.Area\n",
    "df.Per_Sqft=df.Per_Sqft.fillna(perSqft)\n",
    "df.head()"
   ]
  },
  {
   "cell_type": "code",
   "execution_count": 159,
   "metadata": {},
   "outputs": [
    {
     "data": {
      "text/plain": [
       "<matplotlib.collections.PathCollection at 0x1c9a3357d48>"
      ]
     },
     "execution_count": 159,
     "metadata": {},
     "output_type": "execute_result"
    },
    {
     "data": {
      "image/png": "[encoded data removed]",
      "text/plain": [
       "<Figure size 1440x720 with 1 Axes>"
      ]
     },
     "metadata": {
      "needs_background": "light"
     },
     "output_type": "display_data"
    }
   ],
   "source": [
    "plt.scatter(df.Area,df.Per_Sqft)\n"
   ]
  },
  {
   "cell_type": "code",
   "execution_count": 160,
   "metadata": {},
   "outputs": [
    {
     "data": {
      "text/plain": [
       "Area           0\n",
       "BHK            0\n",
       "Bathroom       0\n",
       "Furnishing     5\n",
       "Locality       0\n",
       "Parking        0\n",
       "Price          0\n",
       "Status         0\n",
       "Transaction    0\n",
       "Type           5\n",
       "Per_Sqft       0\n",
       "dtype: int64"
      ]
     },
     "execution_count": 160,
     "metadata": {},
     "output_type": "execute_result"
    }
   ],
   "source": [
    "df.isnull().sum()"
   ]
  },
  {
   "cell_type": "code",
   "execution_count": 161,
   "metadata": {},
   "outputs": [
    {
     "data": {
      "text/plain": [
       "<matplotlib.axes._subplots.AxesSubplot at 0x1c9a4123288>"
      ]
     },
     "execution_count": 161,
     "metadata": {},
     "output_type": "execute_result"
    },
    {
     "data": {
      "image/png": "[encoded data removed]",
      "text/plain": [
       "<Figure size 1440x720 with 1 Axes>"
      ]
     },
     "metadata": {
      "needs_background": "light"
     },
     "output_type": "display_data"
    }
   ],
   "source": [
    "sns.countplot(df['Transaction'])"
   ]
  },
  {
   "cell_type": "code",
   "execution_count": 162,
   "metadata": {},
   "outputs": [
    {
     "data": {
      "text/plain": [
       "<matplotlib.axes._subplots.AxesSubplot at 0x1c9a4129dc8>"
      ]
     },
     "execution_count": 162,
     "metadata": {},
     "output_type": "execute_result"
    },
    {
     "data": {
      "image/png": "[encoded data removed]",
      "text/plain": [
       "<Figure size 1440x720 with 1 Axes>"
      ]
     },
     "metadata": {
      "needs_background": "light"
     },
     "output_type": "display_data"
    }
   ],
   "source": [
    "sns.countplot(df['Status'])"
   ]
  },
  {
   "cell_type": "code",
   "execution_count": 163,
   "metadata": {
    "scrolled": true
   },
   "outputs": [
    {
     "data": {
      "text/plain": [
       "<matplotlib.axes._subplots.AxesSubplot at 0x1c9a4468588>"
      ]
     },
     "execution_count": 163,
     "metadata": {},
     "output_type": "execute_result"
    },
    {
     "data": {
      "image/png": "[encoded data removed]",
      "text/plain": [
       "<Figure size 1440x720 with 1 Axes>"
      ]
     },
     "metadata": {
      "needs_background": "light"
     },
     "output_type": "display_data"
    }
   ],
   "source": [
    "sns.countplot(df['Type'])"
   ]
  },
  {
   "cell_type": "markdown",
   "metadata": {},
   "source": [
    "Dropping Null values"
   ]
  },
  {
   "cell_type": "code",
   "execution_count": 164,
   "metadata": {},
   "outputs": [
    {
     "data": {
      "text/plain": [
       "array(['Semi-Furnished', 'Furnished', 'Unfurnished'], dtype=object)"
      ]
     },
     "execution_count": 164,
     "metadata": {},
     "output_type": "execute_result"
    }
   ],
   "source": [
    "df=df.dropna()\n",
    "df.Furnishing.unique()"
   ]
  },
  {
   "cell_type": "markdown",
   "metadata": {},
   "source": [
    "# OneHotEncoding"
   ]
  },
  {
   "cell_type": "code",
   "execution_count": 165,
   "metadata": {},
   "outputs": [
    {
     "name": "stderr",
     "output_type": "stream",
     "text": [
      "G:\\COVID-19\\Anaconda_2020\\lib\\site-packages\\pandas\\core\\generic.py:5303: SettingWithCopyWarning: \n",
      "A value is trying to be set on a copy of a slice from a DataFrame.\n",
      "Try using .loc[row_indexer,col_indexer] = value instead\n",
      "\n",
      "See the caveats in the documentation: https://pandas.pydata.org/pandas-docs/stable/user_guide/indexing.html#returning-a-view-versus-a-copy\n",
      "  self[name] = value\n"
     ]
    },
    {
     "data": {
      "text/html": [
       "<div>\n",
       "<style scoped>\n",
       "    .dataframe tbody tr th:only-of-type {\n",
       "        vertical-align: middle;\n",
       "    }\n",
       "\n",
       "    .dataframe tbody tr th {\n",
       "        vertical-align: top;\n",
       "    }\n",
       "\n",
       "    .dataframe thead th {\n",
       "        text-align: right;\n",
       "    }\n",
       "</style>\n",
       "<table border=\"1\" class=\"dataframe\">\n",
       "  <thead>\n",
       "    <tr style=\"text-align: right;\">\n",
       "      <th></th>\n",
       "      <th>Area</th>\n",
       "      <th>BHK</th>\n",
       "      <th>Bathroom</th>\n",
       "      <th>Furnishing</th>\n",
       "      <th>Locality</th>\n",
       "      <th>Parking</th>\n",
       "      <th>Price</th>\n",
       "      <th>Status</th>\n",
       "      <th>Transaction</th>\n",
       "      <th>Type</th>\n",
       "      <th>Per_Sqft</th>\n",
       "    </tr>\n",
       "  </thead>\n",
       "  <tbody>\n",
       "    <tr>\n",
       "      <th>0</th>\n",
       "      <td>800.0</td>\n",
       "      <td>3</td>\n",
       "      <td>2.0</td>\n",
       "      <td>1</td>\n",
       "      <td>Rohini Sector 25</td>\n",
       "      <td>1.0</td>\n",
       "      <td>6500000</td>\n",
       "      <td>Ready_to_move</td>\n",
       "      <td>New_Property</td>\n",
       "      <td>Builder_Floor</td>\n",
       "      <td>8125.0</td>\n",
       "    </tr>\n",
       "    <tr>\n",
       "      <th>1</th>\n",
       "      <td>750.0</td>\n",
       "      <td>2</td>\n",
       "      <td>2.0</td>\n",
       "      <td>1</td>\n",
       "      <td>J R Designers Floors, Rohini Sector 24</td>\n",
       "      <td>1.0</td>\n",
       "      <td>5000000</td>\n",
       "      <td>Ready_to_move</td>\n",
       "      <td>New_Property</td>\n",
       "      <td>Apartment</td>\n",
       "      <td>6667.0</td>\n",
       "    </tr>\n",
       "    <tr>\n",
       "      <th>2</th>\n",
       "      <td>950.0</td>\n",
       "      <td>2</td>\n",
       "      <td>2.0</td>\n",
       "      <td>0</td>\n",
       "      <td>Citizen Apartment, Rohini Sector 13</td>\n",
       "      <td>1.0</td>\n",
       "      <td>15500000</td>\n",
       "      <td>Ready_to_move</td>\n",
       "      <td>Resale</td>\n",
       "      <td>Apartment</td>\n",
       "      <td>6667.0</td>\n",
       "    </tr>\n",
       "    <tr>\n",
       "      <th>3</th>\n",
       "      <td>600.0</td>\n",
       "      <td>2</td>\n",
       "      <td>2.0</td>\n",
       "      <td>1</td>\n",
       "      <td>Rohini Sector 24</td>\n",
       "      <td>1.0</td>\n",
       "      <td>4200000</td>\n",
       "      <td>Ready_to_move</td>\n",
       "      <td>Resale</td>\n",
       "      <td>Builder_Floor</td>\n",
       "      <td>6667.0</td>\n",
       "    </tr>\n",
       "    <tr>\n",
       "      <th>4</th>\n",
       "      <td>650.0</td>\n",
       "      <td>2</td>\n",
       "      <td>2.0</td>\n",
       "      <td>1</td>\n",
       "      <td>Rohini Sector 24 carpet area 650 sqft status R...</td>\n",
       "      <td>1.0</td>\n",
       "      <td>6200000</td>\n",
       "      <td>Ready_to_move</td>\n",
       "      <td>New_Property</td>\n",
       "      <td>Builder_Floor</td>\n",
       "      <td>6667.0</td>\n",
       "    </tr>\n",
       "    <tr>\n",
       "      <th>...</th>\n",
       "      <td>...</td>\n",
       "      <td>...</td>\n",
       "      <td>...</td>\n",
       "      <td>...</td>\n",
       "      <td>...</td>\n",
       "      <td>...</td>\n",
       "      <td>...</td>\n",
       "      <td>...</td>\n",
       "      <td>...</td>\n",
       "      <td>...</td>\n",
       "      <td>...</td>\n",
       "    </tr>\n",
       "    <tr>\n",
       "      <th>1254</th>\n",
       "      <td>4118.0</td>\n",
       "      <td>4</td>\n",
       "      <td>5.0</td>\n",
       "      <td>2</td>\n",
       "      <td>Chittaranjan Park</td>\n",
       "      <td>3.0</td>\n",
       "      <td>55000000</td>\n",
       "      <td>Ready_to_move</td>\n",
       "      <td>New_Property</td>\n",
       "      <td>Builder_Floor</td>\n",
       "      <td>12916.0</td>\n",
       "    </tr>\n",
       "    <tr>\n",
       "      <th>1255</th>\n",
       "      <td>1050.0</td>\n",
       "      <td>3</td>\n",
       "      <td>2.0</td>\n",
       "      <td>1</td>\n",
       "      <td>Chittaranjan Park</td>\n",
       "      <td>3.0</td>\n",
       "      <td>12500000</td>\n",
       "      <td>Ready_to_move</td>\n",
       "      <td>Resale</td>\n",
       "      <td>Builder_Floor</td>\n",
       "      <td>12916.0</td>\n",
       "    </tr>\n",
       "    <tr>\n",
       "      <th>1256</th>\n",
       "      <td>875.0</td>\n",
       "      <td>3</td>\n",
       "      <td>3.0</td>\n",
       "      <td>1</td>\n",
       "      <td>Chittaranjan Park</td>\n",
       "      <td>3.0</td>\n",
       "      <td>17500000</td>\n",
       "      <td>Ready_to_move</td>\n",
       "      <td>New_Property</td>\n",
       "      <td>Builder_Floor</td>\n",
       "      <td>12916.0</td>\n",
       "    </tr>\n",
       "    <tr>\n",
       "      <th>1257</th>\n",
       "      <td>990.0</td>\n",
       "      <td>2</td>\n",
       "      <td>2.0</td>\n",
       "      <td>2</td>\n",
       "      <td>Chittaranjan Park Block A</td>\n",
       "      <td>1.0</td>\n",
       "      <td>11500000</td>\n",
       "      <td>Ready_to_move</td>\n",
       "      <td>Resale</td>\n",
       "      <td>Builder_Floor</td>\n",
       "      <td>12916.0</td>\n",
       "    </tr>\n",
       "    <tr>\n",
       "      <th>1258</th>\n",
       "      <td>11050.0</td>\n",
       "      <td>3</td>\n",
       "      <td>3.0</td>\n",
       "      <td>2</td>\n",
       "      <td>Chittaranjan Park</td>\n",
       "      <td>1.0</td>\n",
       "      <td>18500000</td>\n",
       "      <td>Ready_to_move</td>\n",
       "      <td>New_Property</td>\n",
       "      <td>Builder_Floor</td>\n",
       "      <td>12916.0</td>\n",
       "    </tr>\n",
       "  </tbody>\n",
       "</table>\n",
       "<p>1232 rows × 11 columns</p>\n",
       "</div>"
      ],
      "text/plain": [
       "         Area  BHK  Bathroom  Furnishing  \\\n",
       "0       800.0    3       2.0           1   \n",
       "1       750.0    2       2.0           1   \n",
       "2       950.0    2       2.0           0   \n",
       "3       600.0    2       2.0           1   \n",
       "4       650.0    2       2.0           1   \n",
       "...       ...  ...       ...         ...   \n",
       "1254   4118.0    4       5.0           2   \n",
       "1255   1050.0    3       2.0           1   \n",
       "1256    875.0    3       3.0           1   \n",
       "1257    990.0    2       2.0           2   \n",
       "1258  11050.0    3       3.0           2   \n",
       "\n",
       "                                               Locality  Parking     Price  \\\n",
       "0                                      Rohini Sector 25      1.0   6500000   \n",
       "1                J R Designers Floors, Rohini Sector 24      1.0   5000000   \n",
       "2                   Citizen Apartment, Rohini Sector 13      1.0  15500000   \n",
       "3                                      Rohini Sector 24      1.0   4200000   \n",
       "4     Rohini Sector 24 carpet area 650 sqft status R...      1.0   6200000   \n",
       "...                                                 ...      ...       ...   \n",
       "1254                                  Chittaranjan Park      3.0  55000000   \n",
       "1255                                  Chittaranjan Park      3.0  12500000   \n",
       "1256                                  Chittaranjan Park      3.0  17500000   \n",
       "1257                          Chittaranjan Park Block A      1.0  11500000   \n",
       "1258                                  Chittaranjan Park      1.0  18500000   \n",
       "\n",
       "             Status   Transaction           Type  Per_Sqft  \n",
       "0     Ready_to_move  New_Property  Builder_Floor    8125.0  \n",
       "1     Ready_to_move  New_Property      Apartment    6667.0  \n",
       "2     Ready_to_move        Resale      Apartment    6667.0  \n",
       "3     Ready_to_move        Resale  Builder_Floor    6667.0  \n",
       "4     Ready_to_move  New_Property  Builder_Floor    6667.0  \n",
       "...             ...           ...            ...       ...  \n",
       "1254  Ready_to_move  New_Property  Builder_Floor   12916.0  \n",
       "1255  Ready_to_move        Resale  Builder_Floor   12916.0  \n",
       "1256  Ready_to_move  New_Property  Builder_Floor   12916.0  \n",
       "1257  Ready_to_move        Resale  Builder_Floor   12916.0  \n",
       "1258  Ready_to_move  New_Property  Builder_Floor   12916.0  \n",
       "\n",
       "[1232 rows x 11 columns]"
      ]
     },
     "execution_count": 165,
     "metadata": {},
     "output_type": "execute_result"
    }
   ],
   "source": [
    "from sklearn.preprocessing import LabelEncoder\n",
    "le=LabelEncoder()\n",
    "\n",
    "df.Furnishing=le.fit_transform(df.Furnishing)\n",
    "#df.Transaction=le.fit_transform(df.Transaction)\n",
    "#df.Status=le.fit_transform(df.Status)\n",
    "df"
   ]
  },
  {
   "cell_type": "markdown",
   "metadata": {},
   "source": [
    "# Training and Testing the dataset"
   ]
  },
  {
   "cell_type": "code",
   "execution_count": 166,
   "metadata": {},
   "outputs": [],
   "source": [
    "df1=df.copy()"
   ]
  },
  {
   "cell_type": "code",
   "execution_count": 104,
   "metadata": {},
   "outputs": [
    {
     "data": {
      "text/plain": [
       "<matplotlib.axes._subplots.AxesSubplot at 0x1c9a21455c8>"
      ]
     },
     "execution_count": 104,
     "metadata": {},
     "output_type": "execute_result"
    },
    {
     "data": {
      "image/png": "[encoded data removed]",
      "text/plain": [
       "<Figure size 1008x504 with 1 Axes>"
      ]
     },
     "metadata": {
      "needs_background": "light"
     },
     "output_type": "display_data"
    }
   ],
   "source": [
    "import seaborn as sns\n",
    "plt.figure(figsize=(14,7))\n",
    "sns.regplot(x=\"Area\", y=\"Price\", data=df1)"
   ]
  },
  {
   "cell_type": "code",
   "execution_count": 105,
   "metadata": {},
   "outputs": [],
   "source": [
    "\n",
    "X=df.drop(['Locality','Per_Sqft','Price','Type','Status','Transaction'],axis='columns')   #To Avoid too much collinearity\n",
    "\n",
    "y=df.Price"
   ]
  },
  {
   "cell_type": "code",
   "execution_count": 106,
   "metadata": {},
   "outputs": [
    {
     "data": {
      "text/html": [
       "<div>\n",
       "<style scoped>\n",
       "    .dataframe tbody tr th:only-of-type {\n",
       "        vertical-align: middle;\n",
       "    }\n",
       "\n",
       "    .dataframe tbody tr th {\n",
       "        vertical-align: top;\n",
       "    }\n",
       "\n",
       "    .dataframe thead th {\n",
       "        text-align: right;\n",
       "    }\n",
       "</style>\n",
       "<table border=\"1\" class=\"dataframe\">\n",
       "  <thead>\n",
       "    <tr style=\"text-align: right;\">\n",
       "      <th></th>\n",
       "      <th>Area</th>\n",
       "      <th>BHK</th>\n",
       "      <th>Bathroom</th>\n",
       "      <th>Furnishing</th>\n",
       "      <th>Parking</th>\n",
       "    </tr>\n",
       "  </thead>\n",
       "  <tbody>\n",
       "    <tr>\n",
       "      <th>0</th>\n",
       "      <td>800.0</td>\n",
       "      <td>3</td>\n",
       "      <td>2.0</td>\n",
       "      <td>1</td>\n",
       "      <td>1.0</td>\n",
       "    </tr>\n",
       "    <tr>\n",
       "      <th>1</th>\n",
       "      <td>750.0</td>\n",
       "      <td>2</td>\n",
       "      <td>2.0</td>\n",
       "      <td>1</td>\n",
       "      <td>1.0</td>\n",
       "    </tr>\n",
       "    <tr>\n",
       "      <th>2</th>\n",
       "      <td>950.0</td>\n",
       "      <td>2</td>\n",
       "      <td>2.0</td>\n",
       "      <td>0</td>\n",
       "      <td>1.0</td>\n",
       "    </tr>\n",
       "    <tr>\n",
       "      <th>3</th>\n",
       "      <td>600.0</td>\n",
       "      <td>2</td>\n",
       "      <td>2.0</td>\n",
       "      <td>1</td>\n",
       "      <td>1.0</td>\n",
       "    </tr>\n",
       "    <tr>\n",
       "      <th>4</th>\n",
       "      <td>650.0</td>\n",
       "      <td>2</td>\n",
       "      <td>2.0</td>\n",
       "      <td>1</td>\n",
       "      <td>1.0</td>\n",
       "    </tr>\n",
       "    <tr>\n",
       "      <th>...</th>\n",
       "      <td>...</td>\n",
       "      <td>...</td>\n",
       "      <td>...</td>\n",
       "      <td>...</td>\n",
       "      <td>...</td>\n",
       "    </tr>\n",
       "    <tr>\n",
       "      <th>1254</th>\n",
       "      <td>4118.0</td>\n",
       "      <td>4</td>\n",
       "      <td>5.0</td>\n",
       "      <td>2</td>\n",
       "      <td>3.0</td>\n",
       "    </tr>\n",
       "    <tr>\n",
       "      <th>1255</th>\n",
       "      <td>1050.0</td>\n",
       "      <td>3</td>\n",
       "      <td>2.0</td>\n",
       "      <td>1</td>\n",
       "      <td>3.0</td>\n",
       "    </tr>\n",
       "    <tr>\n",
       "      <th>1256</th>\n",
       "      <td>875.0</td>\n",
       "      <td>3</td>\n",
       "      <td>3.0</td>\n",
       "      <td>1</td>\n",
       "      <td>3.0</td>\n",
       "    </tr>\n",
       "    <tr>\n",
       "      <th>1257</th>\n",
       "      <td>990.0</td>\n",
       "      <td>2</td>\n",
       "      <td>2.0</td>\n",
       "      <td>2</td>\n",
       "      <td>1.0</td>\n",
       "    </tr>\n",
       "    <tr>\n",
       "      <th>1258</th>\n",
       "      <td>11050.0</td>\n",
       "      <td>3</td>\n",
       "      <td>3.0</td>\n",
       "      <td>2</td>\n",
       "      <td>1.0</td>\n",
       "    </tr>\n",
       "  </tbody>\n",
       "</table>\n",
       "<p>1232 rows × 5 columns</p>\n",
       "</div>"
      ],
      "text/plain": [
       "         Area  BHK  Bathroom  Furnishing  Parking\n",
       "0       800.0    3       2.0           1      1.0\n",
       "1       750.0    2       2.0           1      1.0\n",
       "2       950.0    2       2.0           0      1.0\n",
       "3       600.0    2       2.0           1      1.0\n",
       "4       650.0    2       2.0           1      1.0\n",
       "...       ...  ...       ...         ...      ...\n",
       "1254   4118.0    4       5.0           2      3.0\n",
       "1255   1050.0    3       2.0           1      3.0\n",
       "1256    875.0    3       3.0           1      3.0\n",
       "1257    990.0    2       2.0           2      1.0\n",
       "1258  11050.0    3       3.0           2      1.0\n",
       "\n",
       "[1232 rows x 5 columns]"
      ]
     },
     "execution_count": 106,
     "metadata": {},
     "output_type": "execute_result"
    }
   ],
   "source": [
    "X"
   ]
  },
  {
   "cell_type": "markdown",
   "metadata": {},
   "source": [
    "# Training and Testing"
   ]
  },
  {
   "cell_type": "code",
   "execution_count": 107,
   "metadata": {},
   "outputs": [],
   "source": [
    " from sklearn.model_selection import train_test_split\n",
    "X_train,X_test,y_train,y_test=train_test_split(X,y,test_size=0.2,random_state=42)"
   ]
  },
  {
   "cell_type": "markdown",
   "metadata": {},
   "source": [
    "# LinearRegression"
   ]
  },
  {
   "cell_type": "code",
   "execution_count": 108,
   "metadata": {},
   "outputs": [
    {
     "data": {
      "text/plain": [
       "0.5080885373356852"
      ]
     },
     "execution_count": 108,
     "metadata": {},
     "output_type": "execute_result"
    }
   ],
   "source": [
    "from sklearn.linear_model import LinearRegression\n",
    "model1=LinearRegression()\n",
    "model1.fit(X_train,y_train)\n",
    "model1.score(X_test,y_test)"
   ]
  },
  {
   "cell_type": "markdown",
   "metadata": {},
   "source": [
    "# DecisionTreeRegressor"
   ]
  },
  {
   "cell_type": "code",
   "execution_count": 109,
   "metadata": {},
   "outputs": [
    {
     "name": "stdout",
     "output_type": "stream",
     "text": [
      "0.7978501475174724\n"
     ]
    }
   ],
   "source": [
    "from sklearn.tree import DecisionTreeRegressor \n",
    "model2 = DecisionTreeRegressor()\n",
    "model2.fit(X_train,y_train)\n",
    "print(model2.score(X_test,y_test))"
   ]
  },
  {
   "cell_type": "markdown",
   "metadata": {},
   "source": [
    "# MeanSquareError"
   ]
  },
  {
   "cell_type": "code",
   "execution_count": 110,
   "metadata": {},
   "outputs": [],
   "source": [
    "from sklearn.metrics import mean_squared_error as mse\n",
    "from math import sqrt"
   ]
  },
  {
   "cell_type": "code",
   "execution_count": 111,
   "metadata": {},
   "outputs": [
    {
     "name": "stdout",
     "output_type": "stream",
     "text": [
      "17968588.086182956\n"
     ]
    }
   ],
   "source": [
    "pred1 = model1.predict(X_test)\n",
    "print(sqrt(mse(y_test,pred1)))"
   ]
  },
  {
   "cell_type": "code",
   "execution_count": 112,
   "metadata": {},
   "outputs": [
    {
     "name": "stdout",
     "output_type": "stream",
     "text": [
      "11518798.893222377\n"
     ]
    }
   ],
   "source": [
    "pred2 = model2.predict(X_test)\n",
    "print(sqrt(mse(y_test,pred2)))"
   ]
  },
  {
   "cell_type": "code",
   "execution_count": 113,
   "metadata": {},
   "outputs": [
    {
     "data": {
      "text/plain": [
       "array([11290170.5511384])"
      ]
     },
     "execution_count": 113,
     "metadata": {},
     "output_type": "execute_result"
    }
   ],
   "source": [
    "model1.predict([[800,3,2.0,1,1.0]])"
   ]
  },
  {
   "cell_type": "code",
   "execution_count": 114,
   "metadata": {},
   "outputs": [
    {
     "data": {
      "text/plain": [
       "array([6305000.])"
      ]
     },
     "execution_count": 114,
     "metadata": {},
     "output_type": "execute_result"
    }
   ],
   "source": [
    "model2.predict([[800,3,2.0,1,1.0]])"
   ]
  },
  {
   "cell_type": "markdown",
   "metadata": {},
   "source": [
    "model2 is more accurate than model1"
   ]
  },
  {
   "cell_type": "markdown",
   "metadata": {},
   "source": [
    "To get a better result, dropping the data having area more than 5000"
   ]
  },
  {
   "cell_type": "code",
   "execution_count": 115,
   "metadata": {},
   "outputs": [
    {
     "name": "stderr",
     "output_type": "stream",
     "text": [
      "G:\\COVID-19\\Anaconda_2020\\lib\\site-packages\\pandas\\core\\frame.py:3997: SettingWithCopyWarning: \n",
      "A value is trying to be set on a copy of a slice from a DataFrame\n",
      "\n",
      "See the caveats in the documentation: https://pandas.pydata.org/pandas-docs/stable/user_guide/indexing.html#returning-a-view-versus-a-copy\n",
      "  errors=errors,\n"
     ]
    }
   ],
   "source": [
    "p = np.array(df[df.Area>5000].index)\n",
    "df.drop(p,inplace=True)"
   ]
  },
  {
   "cell_type": "code",
   "execution_count": 116,
   "metadata": {},
   "outputs": [
    {
     "data": {
      "text/plain": [
       "<matplotlib.axes._subplots.AxesSubplot at 0x1c9a248cd48>"
      ]
     },
     "execution_count": 116,
     "metadata": {},
     "output_type": "execute_result"
    },
    {
     "data": {
      "image/png": "[encoded data removed]",
      "text/plain": [
       "<Figure size 1008x504 with 1 Axes>"
      ]
     },
     "metadata": {
      "needs_background": "light"
     },
     "output_type": "display_data"
    }
   ],
   "source": [
    "import seaborn as sns\n",
    "plt.figure(figsize=(14,7))\n",
    "sns.regplot(x=\"Area\", y=\"Price\", data=df)"
   ]
  },
  {
   "cell_type": "code",
   "execution_count": 117,
   "metadata": {},
   "outputs": [],
   "source": [
    "X1=df.drop(['Locality','Per_Sqft','Price','Type','Status','Transaction'],axis='columns')   #To Avoid too much collinearity\n",
    "\n",
    "y1=df.Price"
   ]
  },
  {
   "cell_type": "markdown",
   "metadata": {},
   "source": [
    "# Training and Testing the model"
   ]
  },
  {
   "cell_type": "code",
   "execution_count": 118,
   "metadata": {},
   "outputs": [],
   "source": [
    "from sklearn.model_selection import train_test_split\n",
    "X_train,X_test,y_train,y_test=train_test_split(X1,y1,test_size=0.2,random_state=42)\n"
   ]
  },
  {
   "cell_type": "markdown",
   "metadata": {},
   "source": [
    "# LinearRegression"
   ]
  },
  {
   "cell_type": "code",
   "execution_count": 119,
   "metadata": {},
   "outputs": [
    {
     "data": {
      "text/plain": [
       "0.7152057497074491"
      ]
     },
     "execution_count": 119,
     "metadata": {},
     "output_type": "execute_result"
    }
   ],
   "source": [
    "\n",
    "from sklearn.linear_model import LinearRegression\n",
    "model1=LinearRegression()\n",
    "model1.fit(X_train,y_train)\n",
    "model1.score(X_test,y_test)"
   ]
  },
  {
   "cell_type": "markdown",
   "metadata": {},
   "source": [
    "# DecisionTreeRegressor"
   ]
  },
  {
   "cell_type": "code",
   "execution_count": 120,
   "metadata": {},
   "outputs": [
    {
     "name": "stdout",
     "output_type": "stream",
     "text": [
      "0.6152650336531904\n"
     ]
    }
   ],
   "source": [
    "from sklearn.tree import DecisionTreeRegressor \n",
    "model2 = DecisionTreeRegressor()\n",
    "model2.fit(X_train,y_train)\n",
    "print(model2.score(X_test,y_test))\n"
   ]
  },
  {
   "cell_type": "markdown",
   "metadata": {},
   "source": [
    "# MeanSquaredError"
   ]
  },
  {
   "cell_type": "markdown",
   "metadata": {},
   "source": [
    "Lesser the mse means more accurate the prediction"
   ]
  },
  {
   "cell_type": "code",
   "execution_count": 121,
   "metadata": {},
   "outputs": [],
   "source": [
    "from sklearn.metrics import mean_squared_error as mse\n",
    "from math import sqrt\n"
   ]
  },
  {
   "cell_type": "code",
   "execution_count": 122,
   "metadata": {},
   "outputs": [
    {
     "name": "stdout",
     "output_type": "stream",
     "text": [
      "10277130.441508386\n"
     ]
    }
   ],
   "source": [
    "pred1 = model1.predict(X_test)\n",
    "print(sqrt(mse(y_test,pred1)))"
   ]
  },
  {
   "cell_type": "code",
   "execution_count": 123,
   "metadata": {},
   "outputs": [
    {
     "name": "stdout",
     "output_type": "stream",
     "text": [
      "11945025.730043476\n"
     ]
    }
   ],
   "source": [
    "pred2 = model2.predict(X_test)\n",
    "print(sqrt(mse(y_test,pred2)))"
   ]
  },
  {
   "cell_type": "code",
   "execution_count": 124,
   "metadata": {},
   "outputs": [
    {
     "data": {
      "text/plain": [
       "array([8162383.7614825])"
      ]
     },
     "execution_count": 124,
     "metadata": {},
     "output_type": "execute_result"
    }
   ],
   "source": [
    "model1.predict([[800,3,2.0,1,1.0]])"
   ]
  },
  {
   "cell_type": "code",
   "execution_count": 125,
   "metadata": {},
   "outputs": [
    {
     "data": {
      "text/plain": [
       "array([5542857.14285714])"
      ]
     },
     "execution_count": 125,
     "metadata": {},
     "output_type": "execute_result"
    }
   ],
   "source": [
    "model2.predict([[800,3,2.0,1,1.0]])"
   ]
  },
  {
   "cell_type": "markdown",
   "metadata": {},
   "source": [
    "model2 is more accurate than model1"
   ]
  },
  {
   "cell_type": "markdown",
   "metadata": {},
   "source": [
    "# Export the tested model to a pickle file"
   ]
  },
  {
   "cell_type": "code",
   "execution_count": 126,
   "metadata": {},
   "outputs": [],
   "source": [
    "'''import pickle\n",
    "with open('MagicBricks.csv','wb') as d:\n",
    "    pickle.dump(model1,d)'''\n",
    "import pickle\n",
    "with open('model_pickle','wb') as f:\n",
    "    pickle.dump(model1,f)"
   ]
  },
  {
   "cell_type": "markdown",
   "metadata": {},
   "source": [
    "# Export location and column information to a file that will be useful later in  our prediction application"
   ]
  },
  {
   "cell_type": "code",
   "execution_count": 127,
   "metadata": {},
   "outputs": [],
   "source": [
    "import json\n",
    "columns = {\n",
    "    'data_columns' : [col.lower() for col in X.columns]\n",
    "}\n",
    "with open(\"columns.json\",\"w\") as d:\n",
    "    d.write(json.dumps(columns))"
   ]
  },
  {
   "cell_type": "code",
   "execution_count": null,
   "metadata": {},
   "outputs": [],
   "source": []
  },
  {
   "cell_type": "code",
   "execution_count": null,
   "metadata": {},
   "outputs": [],
   "source": []
  },
  {
   "cell_type": "code",
   "execution_count": null,
   "metadata": {},
   "outputs": [],
   "source": []
  }
 ],
 "metadata": {
  "kernelspec": {
   "display_name": "Python 3",
   "language": "python",
   "name": "python3"
  },
  "language_info": {
   "codemirror_mode": {
    "name": "ipython",
    "version": 3
   },
   "file_extension": ".py",
   "mimetype": "text/x-python",
   "name": "python",
   "nbconvert_exporter": "python",
   "pygments_lexer": "ipython3",
   "version": "3.7.6"
  }
 },
 "nbformat": 4,
 "nbformat_minor": 4
}
